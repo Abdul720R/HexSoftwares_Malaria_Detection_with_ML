{
 "cells": [
  {
   "cell_type": "markdown",
   "id": "78aef63c-e6e9-499d-b739-ae3f0ffb7cfb",
   "metadata": {},
   "source": [
    "#  Creating CNN And Transfer Learning\n",
    "## Please download the dataset from the below url"
   ]
  },
  {
   "cell_type": "code",
   "execution_count": 10,
   "id": "4f7ea63c-d732-4c4a-be34-3bb88f922fe4",
   "metadata": {},
   "outputs": [],
   "source": [
    "# Importing all the necessary libraries and modules\n",
    "\n",
    "# Import essential layers from Keras for building and customizing deep learning models\n",
    "from tensorflow.keras.layers import Input, Lambda, Dense, Flatten, Conv2D\n",
    "\n",
    "# Import Model class for defining complex architectures using Functional API\n",
    "from tensorflow.keras.models import Model\n",
    "\n",
    "# Import the pre-trained VGG19 model for transfer learning\n",
    "from tensorflow.keras.applications.vgg19 import VGG19\n",
    "\n",
    "# Import preprocessing function for ResNet50 (can be used for normalizing input images)\n",
    "from tensorflow.keras.applications.resnet50 import preprocess_input\n",
    "\n",
    "# Import image-related utilities for loading and processing images\n",
    "from tensorflow.keras.preprocessing import image\n",
    "from tensorflow.keras.preprocessing.image import ImageDataGenerator, load_img\n",
    "\n",
    "# Import Sequential class for creating simple, layer-by-layer models\n",
    "from tensorflow.keras.models import Sequential\n",
    "\n",
    "# Import NumPy for numerical computations and array handling\n",
    "import numpy as np\n",
    "\n",
    "# Import glob for fetching file paths and image datasets from directories\n",
    "from glob import glob\n",
    "\n",
    "# Import Matplotlib for data visualization and plotting graphs\n",
    "import matplotlib.pyplot as plt\n"
   ]
  },
  {
   "cell_type": "code",
   "execution_count": 11,
   "id": "606d28d8-e9eb-4cf4-b102-bdd5837f53c2",
   "metadata": {},
   "outputs": [],
   "source": [
    "# Define the image size to which all input images will be resized\n",
    "# Most pre-trained models (like VGG19) expect 224x224 pixel images\n",
    "IMAGE_SIZE = [224, 224]\n",
    "\n",
    "# Specify the directory path for the training dataset\n",
    "# This folder should contain subfolders representing different classes\n",
    "train_path = 'cell_images/Train'\n",
    "\n",
    "# Specify the directory path for the validation (or testing) dataset\n",
    "# This will be used to evaluate model performance on unseen data\n",
    "valid_path = 'cell_images/Test'\n"
   ]
  },
  {
   "cell_type": "code",
   "execution_count": 12,
   "id": "66492ec1-d809-4e17-a0a7-cd41117039a9",
   "metadata": {},
   "outputs": [],
   "source": [
    "# Import the pre-trained VGG19 model from Keras applications\n",
    "# Add a preprocessing layer at the beginning to match input requirements\n",
    "\n",
    "# Initialize the VGG19 model with the following parameters:\n",
    "# - input_shape: Defines the size of the input images (224x224x3)\n",
    "# - weights: 'imagenet' means the model will use pre-trained weights from the ImageNet dataset\n",
    "# - include_top=False removes the fully connected (classification) layers at the top\n",
    "#   so we can add our own custom layers for the specific classification task\n",
    "mobilnet = VGG19(input_shape=IMAGE_SIZE + [3], weights='imagenet', include_top=False)\n"
   ]
  },
  {
   "cell_type": "code",
   "execution_count": 13,
   "id": "70004067-191b-4ec1-a6f8-9969b19c0732",
   "metadata": {},
   "outputs": [],
   "source": [
    "# Freeze all the layers of the pre-trained VGG19 model\n",
    "# This means the existing ImageNet-trained weights will not be updated during training\n",
    "# By doing this, we keep the learned features from ImageNet intact and only train the new layers we add later\n",
    "for layer in mobilnet.layers:\n",
    "    layer.trainable = False\n"
   ]
  },
  {
   "cell_type": "code",
   "execution_count": 14,
   "id": "2c4dfd20-45ce-494c-bea5-ec38d1b61ced",
   "metadata": {},
   "outputs": [],
   "source": [
    "# Get the list of all class folders in the training dataset directory\n",
    "# Each subfolder inside 'Dataset/Train' represents a separate class label (e.g., 'Healthy', 'Infected')\n",
    "# 'glob' is used to fetch the full paths of these subfolders\n",
    "# This helps determine the total number of output classes for the classification layer\n",
    "folders = glob('Dataset/Train/*')\n"
   ]
  },
  {
   "cell_type": "code",
   "execution_count": 15,
   "id": "e735b9cf-4639-4d82-a52c-7d8e4bcd5c3a",
   "metadata": {},
   "outputs": [
    {
     "data": {
      "text/plain": [
       "['Dataset/Train\\\\Parasite', 'Dataset/Train\\\\Uninfected']"
      ]
     },
     "execution_count": 15,
     "metadata": {},
     "output_type": "execute_result"
    }
   ],
   "source": [
    "folders"
   ]
  },
  {
   "cell_type": "code",
   "execution_count": 16,
   "id": "bd8c4d70-291b-4062-8449-e92c56c88549",
   "metadata": {},
   "outputs": [],
   "source": [
    "# Flatten the output of the VGG19 model to convert it from a 3D feature map to a 1D feature vector\n",
    "# This step prepares the data for the fully connected (Dense) layers that will be added next\n",
    "# You can add more layers (like Dense, Dropout, or BatchNormalization) after this to improve performance\n",
    "x = Flatten()(mobilnet.output)\n"
   ]
  },
  {
   "cell_type": "code",
   "execution_count": 17,
   "id": "e2ece330-842d-4efd-aa98-d61142808271",
   "metadata": {},
   "outputs": [],
   "source": [
    "# Add the output layer for classification\n",
    "# 'len(folders)' automatically sets the number of output neurons equal to the number of classes\n",
    "# 'softmax' activation ensures the output values represent class probabilities (summing up to 1)\n",
    "prediction = Dense(len(folders), activation='softmax')(x)\n",
    "\n",
    "# Create the final model by specifying:\n",
    "# - inputs: the input layer of the pre-trained VGG19 model\n",
    "# - outputs: the new prediction layer added above\n",
    "# This forms a complete model combining pre-trained VGG19 features and custom classification layers\n",
    "model = Model(inputs=mobilnet.input, outputs=prediction)\n"
   ]
  },
  {
   "cell_type": "code",
   "execution_count": 18,
   "id": "a0ab990d-0602-436e-82fb-bd78c233af6e",
   "metadata": {},
   "outputs": [
    {
     "data": {
      "text/html": [
       "<pre style=\"white-space:pre;overflow-x:auto;line-height:normal;font-family:Menlo,'DejaVu Sans Mono',consolas,'Courier New',monospace\"><span style=\"font-weight: bold\">Model: \"functional\"</span>\n",
       "</pre>\n"
      ],
      "text/plain": [
       "\u001b[1mModel: \"functional\"\u001b[0m\n"
      ]
     },
     "metadata": {},
     "output_type": "display_data"
    },
    {
     "data": {
      "text/html": [
       "<pre style=\"white-space:pre;overflow-x:auto;line-height:normal;font-family:Menlo,'DejaVu Sans Mono',consolas,'Courier New',monospace\">┏━━━━━━━━━━━━━━━━━━━━━━━━━━━━━━━━━━━━━━┳━━━━━━━━━━━━━━━━━━━━━━━━━━━━━┳━━━━━━━━━━━━━━━━━┓\n",
       "┃<span style=\"font-weight: bold\"> Layer (type)                         </span>┃<span style=\"font-weight: bold\"> Output Shape                </span>┃<span style=\"font-weight: bold\">         Param # </span>┃\n",
       "┡━━━━━━━━━━━━━━━━━━━━━━━━━━━━━━━━━━━━━━╇━━━━━━━━━━━━━━━━━━━━━━━━━━━━━╇━━━━━━━━━━━━━━━━━┩\n",
       "│ input_layer_1 (<span style=\"color: #0087ff; text-decoration-color: #0087ff\">InputLayer</span>)           │ (<span style=\"color: #00d7ff; text-decoration-color: #00d7ff\">None</span>, <span style=\"color: #00af00; text-decoration-color: #00af00\">224</span>, <span style=\"color: #00af00; text-decoration-color: #00af00\">224</span>, <span style=\"color: #00af00; text-decoration-color: #00af00\">3</span>)         │               <span style=\"color: #00af00; text-decoration-color: #00af00\">0</span> │\n",
       "├──────────────────────────────────────┼─────────────────────────────┼─────────────────┤\n",
       "│ block1_conv1 (<span style=\"color: #0087ff; text-decoration-color: #0087ff\">Conv2D</span>)                │ (<span style=\"color: #00d7ff; text-decoration-color: #00d7ff\">None</span>, <span style=\"color: #00af00; text-decoration-color: #00af00\">224</span>, <span style=\"color: #00af00; text-decoration-color: #00af00\">224</span>, <span style=\"color: #00af00; text-decoration-color: #00af00\">64</span>)        │           <span style=\"color: #00af00; text-decoration-color: #00af00\">1,792</span> │\n",
       "├──────────────────────────────────────┼─────────────────────────────┼─────────────────┤\n",
       "│ block1_conv2 (<span style=\"color: #0087ff; text-decoration-color: #0087ff\">Conv2D</span>)                │ (<span style=\"color: #00d7ff; text-decoration-color: #00d7ff\">None</span>, <span style=\"color: #00af00; text-decoration-color: #00af00\">224</span>, <span style=\"color: #00af00; text-decoration-color: #00af00\">224</span>, <span style=\"color: #00af00; text-decoration-color: #00af00\">64</span>)        │          <span style=\"color: #00af00; text-decoration-color: #00af00\">36,928</span> │\n",
       "├──────────────────────────────────────┼─────────────────────────────┼─────────────────┤\n",
       "│ block1_pool (<span style=\"color: #0087ff; text-decoration-color: #0087ff\">MaxPooling2D</span>)           │ (<span style=\"color: #00d7ff; text-decoration-color: #00d7ff\">None</span>, <span style=\"color: #00af00; text-decoration-color: #00af00\">112</span>, <span style=\"color: #00af00; text-decoration-color: #00af00\">112</span>, <span style=\"color: #00af00; text-decoration-color: #00af00\">64</span>)        │               <span style=\"color: #00af00; text-decoration-color: #00af00\">0</span> │\n",
       "├──────────────────────────────────────┼─────────────────────────────┼─────────────────┤\n",
       "│ block2_conv1 (<span style=\"color: #0087ff; text-decoration-color: #0087ff\">Conv2D</span>)                │ (<span style=\"color: #00d7ff; text-decoration-color: #00d7ff\">None</span>, <span style=\"color: #00af00; text-decoration-color: #00af00\">112</span>, <span style=\"color: #00af00; text-decoration-color: #00af00\">112</span>, <span style=\"color: #00af00; text-decoration-color: #00af00\">128</span>)       │          <span style=\"color: #00af00; text-decoration-color: #00af00\">73,856</span> │\n",
       "├──────────────────────────────────────┼─────────────────────────────┼─────────────────┤\n",
       "│ block2_conv2 (<span style=\"color: #0087ff; text-decoration-color: #0087ff\">Conv2D</span>)                │ (<span style=\"color: #00d7ff; text-decoration-color: #00d7ff\">None</span>, <span style=\"color: #00af00; text-decoration-color: #00af00\">112</span>, <span style=\"color: #00af00; text-decoration-color: #00af00\">112</span>, <span style=\"color: #00af00; text-decoration-color: #00af00\">128</span>)       │         <span style=\"color: #00af00; text-decoration-color: #00af00\">147,584</span> │\n",
       "├──────────────────────────────────────┼─────────────────────────────┼─────────────────┤\n",
       "│ block2_pool (<span style=\"color: #0087ff; text-decoration-color: #0087ff\">MaxPooling2D</span>)           │ (<span style=\"color: #00d7ff; text-decoration-color: #00d7ff\">None</span>, <span style=\"color: #00af00; text-decoration-color: #00af00\">56</span>, <span style=\"color: #00af00; text-decoration-color: #00af00\">56</span>, <span style=\"color: #00af00; text-decoration-color: #00af00\">128</span>)         │               <span style=\"color: #00af00; text-decoration-color: #00af00\">0</span> │\n",
       "├──────────────────────────────────────┼─────────────────────────────┼─────────────────┤\n",
       "│ block3_conv1 (<span style=\"color: #0087ff; text-decoration-color: #0087ff\">Conv2D</span>)                │ (<span style=\"color: #00d7ff; text-decoration-color: #00d7ff\">None</span>, <span style=\"color: #00af00; text-decoration-color: #00af00\">56</span>, <span style=\"color: #00af00; text-decoration-color: #00af00\">56</span>, <span style=\"color: #00af00; text-decoration-color: #00af00\">256</span>)         │         <span style=\"color: #00af00; text-decoration-color: #00af00\">295,168</span> │\n",
       "├──────────────────────────────────────┼─────────────────────────────┼─────────────────┤\n",
       "│ block3_conv2 (<span style=\"color: #0087ff; text-decoration-color: #0087ff\">Conv2D</span>)                │ (<span style=\"color: #00d7ff; text-decoration-color: #00d7ff\">None</span>, <span style=\"color: #00af00; text-decoration-color: #00af00\">56</span>, <span style=\"color: #00af00; text-decoration-color: #00af00\">56</span>, <span style=\"color: #00af00; text-decoration-color: #00af00\">256</span>)         │         <span style=\"color: #00af00; text-decoration-color: #00af00\">590,080</span> │\n",
       "├──────────────────────────────────────┼─────────────────────────────┼─────────────────┤\n",
       "│ block3_conv3 (<span style=\"color: #0087ff; text-decoration-color: #0087ff\">Conv2D</span>)                │ (<span style=\"color: #00d7ff; text-decoration-color: #00d7ff\">None</span>, <span style=\"color: #00af00; text-decoration-color: #00af00\">56</span>, <span style=\"color: #00af00; text-decoration-color: #00af00\">56</span>, <span style=\"color: #00af00; text-decoration-color: #00af00\">256</span>)         │         <span style=\"color: #00af00; text-decoration-color: #00af00\">590,080</span> │\n",
       "├──────────────────────────────────────┼─────────────────────────────┼─────────────────┤\n",
       "│ block3_conv4 (<span style=\"color: #0087ff; text-decoration-color: #0087ff\">Conv2D</span>)                │ (<span style=\"color: #00d7ff; text-decoration-color: #00d7ff\">None</span>, <span style=\"color: #00af00; text-decoration-color: #00af00\">56</span>, <span style=\"color: #00af00; text-decoration-color: #00af00\">56</span>, <span style=\"color: #00af00; text-decoration-color: #00af00\">256</span>)         │         <span style=\"color: #00af00; text-decoration-color: #00af00\">590,080</span> │\n",
       "├──────────────────────────────────────┼─────────────────────────────┼─────────────────┤\n",
       "│ block3_pool (<span style=\"color: #0087ff; text-decoration-color: #0087ff\">MaxPooling2D</span>)           │ (<span style=\"color: #00d7ff; text-decoration-color: #00d7ff\">None</span>, <span style=\"color: #00af00; text-decoration-color: #00af00\">28</span>, <span style=\"color: #00af00; text-decoration-color: #00af00\">28</span>, <span style=\"color: #00af00; text-decoration-color: #00af00\">256</span>)         │               <span style=\"color: #00af00; text-decoration-color: #00af00\">0</span> │\n",
       "├──────────────────────────────────────┼─────────────────────────────┼─────────────────┤\n",
       "│ block4_conv1 (<span style=\"color: #0087ff; text-decoration-color: #0087ff\">Conv2D</span>)                │ (<span style=\"color: #00d7ff; text-decoration-color: #00d7ff\">None</span>, <span style=\"color: #00af00; text-decoration-color: #00af00\">28</span>, <span style=\"color: #00af00; text-decoration-color: #00af00\">28</span>, <span style=\"color: #00af00; text-decoration-color: #00af00\">512</span>)         │       <span style=\"color: #00af00; text-decoration-color: #00af00\">1,180,160</span> │\n",
       "├──────────────────────────────────────┼─────────────────────────────┼─────────────────┤\n",
       "│ block4_conv2 (<span style=\"color: #0087ff; text-decoration-color: #0087ff\">Conv2D</span>)                │ (<span style=\"color: #00d7ff; text-decoration-color: #00d7ff\">None</span>, <span style=\"color: #00af00; text-decoration-color: #00af00\">28</span>, <span style=\"color: #00af00; text-decoration-color: #00af00\">28</span>, <span style=\"color: #00af00; text-decoration-color: #00af00\">512</span>)         │       <span style=\"color: #00af00; text-decoration-color: #00af00\">2,359,808</span> │\n",
       "├──────────────────────────────────────┼─────────────────────────────┼─────────────────┤\n",
       "│ block4_conv3 (<span style=\"color: #0087ff; text-decoration-color: #0087ff\">Conv2D</span>)                │ (<span style=\"color: #00d7ff; text-decoration-color: #00d7ff\">None</span>, <span style=\"color: #00af00; text-decoration-color: #00af00\">28</span>, <span style=\"color: #00af00; text-decoration-color: #00af00\">28</span>, <span style=\"color: #00af00; text-decoration-color: #00af00\">512</span>)         │       <span style=\"color: #00af00; text-decoration-color: #00af00\">2,359,808</span> │\n",
       "├──────────────────────────────────────┼─────────────────────────────┼─────────────────┤\n",
       "│ block4_conv4 (<span style=\"color: #0087ff; text-decoration-color: #0087ff\">Conv2D</span>)                │ (<span style=\"color: #00d7ff; text-decoration-color: #00d7ff\">None</span>, <span style=\"color: #00af00; text-decoration-color: #00af00\">28</span>, <span style=\"color: #00af00; text-decoration-color: #00af00\">28</span>, <span style=\"color: #00af00; text-decoration-color: #00af00\">512</span>)         │       <span style=\"color: #00af00; text-decoration-color: #00af00\">2,359,808</span> │\n",
       "├──────────────────────────────────────┼─────────────────────────────┼─────────────────┤\n",
       "│ block4_pool (<span style=\"color: #0087ff; text-decoration-color: #0087ff\">MaxPooling2D</span>)           │ (<span style=\"color: #00d7ff; text-decoration-color: #00d7ff\">None</span>, <span style=\"color: #00af00; text-decoration-color: #00af00\">14</span>, <span style=\"color: #00af00; text-decoration-color: #00af00\">14</span>, <span style=\"color: #00af00; text-decoration-color: #00af00\">512</span>)         │               <span style=\"color: #00af00; text-decoration-color: #00af00\">0</span> │\n",
       "├──────────────────────────────────────┼─────────────────────────────┼─────────────────┤\n",
       "│ block5_conv1 (<span style=\"color: #0087ff; text-decoration-color: #0087ff\">Conv2D</span>)                │ (<span style=\"color: #00d7ff; text-decoration-color: #00d7ff\">None</span>, <span style=\"color: #00af00; text-decoration-color: #00af00\">14</span>, <span style=\"color: #00af00; text-decoration-color: #00af00\">14</span>, <span style=\"color: #00af00; text-decoration-color: #00af00\">512</span>)         │       <span style=\"color: #00af00; text-decoration-color: #00af00\">2,359,808</span> │\n",
       "├──────────────────────────────────────┼─────────────────────────────┼─────────────────┤\n",
       "│ block5_conv2 (<span style=\"color: #0087ff; text-decoration-color: #0087ff\">Conv2D</span>)                │ (<span style=\"color: #00d7ff; text-decoration-color: #00d7ff\">None</span>, <span style=\"color: #00af00; text-decoration-color: #00af00\">14</span>, <span style=\"color: #00af00; text-decoration-color: #00af00\">14</span>, <span style=\"color: #00af00; text-decoration-color: #00af00\">512</span>)         │       <span style=\"color: #00af00; text-decoration-color: #00af00\">2,359,808</span> │\n",
       "├──────────────────────────────────────┼─────────────────────────────┼─────────────────┤\n",
       "│ block5_conv3 (<span style=\"color: #0087ff; text-decoration-color: #0087ff\">Conv2D</span>)                │ (<span style=\"color: #00d7ff; text-decoration-color: #00d7ff\">None</span>, <span style=\"color: #00af00; text-decoration-color: #00af00\">14</span>, <span style=\"color: #00af00; text-decoration-color: #00af00\">14</span>, <span style=\"color: #00af00; text-decoration-color: #00af00\">512</span>)         │       <span style=\"color: #00af00; text-decoration-color: #00af00\">2,359,808</span> │\n",
       "├──────────────────────────────────────┼─────────────────────────────┼─────────────────┤\n",
       "│ block5_conv4 (<span style=\"color: #0087ff; text-decoration-color: #0087ff\">Conv2D</span>)                │ (<span style=\"color: #00d7ff; text-decoration-color: #00d7ff\">None</span>, <span style=\"color: #00af00; text-decoration-color: #00af00\">14</span>, <span style=\"color: #00af00; text-decoration-color: #00af00\">14</span>, <span style=\"color: #00af00; text-decoration-color: #00af00\">512</span>)         │       <span style=\"color: #00af00; text-decoration-color: #00af00\">2,359,808</span> │\n",
       "├──────────────────────────────────────┼─────────────────────────────┼─────────────────┤\n",
       "│ block5_pool (<span style=\"color: #0087ff; text-decoration-color: #0087ff\">MaxPooling2D</span>)           │ (<span style=\"color: #00d7ff; text-decoration-color: #00d7ff\">None</span>, <span style=\"color: #00af00; text-decoration-color: #00af00\">7</span>, <span style=\"color: #00af00; text-decoration-color: #00af00\">7</span>, <span style=\"color: #00af00; text-decoration-color: #00af00\">512</span>)           │               <span style=\"color: #00af00; text-decoration-color: #00af00\">0</span> │\n",
       "├──────────────────────────────────────┼─────────────────────────────┼─────────────────┤\n",
       "│ flatten (<span style=\"color: #0087ff; text-decoration-color: #0087ff\">Flatten</span>)                    │ (<span style=\"color: #00d7ff; text-decoration-color: #00d7ff\">None</span>, <span style=\"color: #00af00; text-decoration-color: #00af00\">25088</span>)               │               <span style=\"color: #00af00; text-decoration-color: #00af00\">0</span> │\n",
       "├──────────────────────────────────────┼─────────────────────────────┼─────────────────┤\n",
       "│ dense (<span style=\"color: #0087ff; text-decoration-color: #0087ff\">Dense</span>)                        │ (<span style=\"color: #00d7ff; text-decoration-color: #00d7ff\">None</span>, <span style=\"color: #00af00; text-decoration-color: #00af00\">2</span>)                   │          <span style=\"color: #00af00; text-decoration-color: #00af00\">50,178</span> │\n",
       "└──────────────────────────────────────┴─────────────────────────────┴─────────────────┘\n",
       "</pre>\n"
      ],
      "text/plain": [
       "┏━━━━━━━━━━━━━━━━━━━━━━━━━━━━━━━━━━━━━━┳━━━━━━━━━━━━━━━━━━━━━━━━━━━━━┳━━━━━━━━━━━━━━━━━┓\n",
       "┃\u001b[1m \u001b[0m\u001b[1mLayer (type)                        \u001b[0m\u001b[1m \u001b[0m┃\u001b[1m \u001b[0m\u001b[1mOutput Shape               \u001b[0m\u001b[1m \u001b[0m┃\u001b[1m \u001b[0m\u001b[1m        Param #\u001b[0m\u001b[1m \u001b[0m┃\n",
       "┡━━━━━━━━━━━━━━━━━━━━━━━━━━━━━━━━━━━━━━╇━━━━━━━━━━━━━━━━━━━━━━━━━━━━━╇━━━━━━━━━━━━━━━━━┩\n",
       "│ input_layer_1 (\u001b[38;5;33mInputLayer\u001b[0m)           │ (\u001b[38;5;45mNone\u001b[0m, \u001b[38;5;34m224\u001b[0m, \u001b[38;5;34m224\u001b[0m, \u001b[38;5;34m3\u001b[0m)         │               \u001b[38;5;34m0\u001b[0m │\n",
       "├──────────────────────────────────────┼─────────────────────────────┼─────────────────┤\n",
       "│ block1_conv1 (\u001b[38;5;33mConv2D\u001b[0m)                │ (\u001b[38;5;45mNone\u001b[0m, \u001b[38;5;34m224\u001b[0m, \u001b[38;5;34m224\u001b[0m, \u001b[38;5;34m64\u001b[0m)        │           \u001b[38;5;34m1,792\u001b[0m │\n",
       "├──────────────────────────────────────┼─────────────────────────────┼─────────────────┤\n",
       "│ block1_conv2 (\u001b[38;5;33mConv2D\u001b[0m)                │ (\u001b[38;5;45mNone\u001b[0m, \u001b[38;5;34m224\u001b[0m, \u001b[38;5;34m224\u001b[0m, \u001b[38;5;34m64\u001b[0m)        │          \u001b[38;5;34m36,928\u001b[0m │\n",
       "├──────────────────────────────────────┼─────────────────────────────┼─────────────────┤\n",
       "│ block1_pool (\u001b[38;5;33mMaxPooling2D\u001b[0m)           │ (\u001b[38;5;45mNone\u001b[0m, \u001b[38;5;34m112\u001b[0m, \u001b[38;5;34m112\u001b[0m, \u001b[38;5;34m64\u001b[0m)        │               \u001b[38;5;34m0\u001b[0m │\n",
       "├──────────────────────────────────────┼─────────────────────────────┼─────────────────┤\n",
       "│ block2_conv1 (\u001b[38;5;33mConv2D\u001b[0m)                │ (\u001b[38;5;45mNone\u001b[0m, \u001b[38;5;34m112\u001b[0m, \u001b[38;5;34m112\u001b[0m, \u001b[38;5;34m128\u001b[0m)       │          \u001b[38;5;34m73,856\u001b[0m │\n",
       "├──────────────────────────────────────┼─────────────────────────────┼─────────────────┤\n",
       "│ block2_conv2 (\u001b[38;5;33mConv2D\u001b[0m)                │ (\u001b[38;5;45mNone\u001b[0m, \u001b[38;5;34m112\u001b[0m, \u001b[38;5;34m112\u001b[0m, \u001b[38;5;34m128\u001b[0m)       │         \u001b[38;5;34m147,584\u001b[0m │\n",
       "├──────────────────────────────────────┼─────────────────────────────┼─────────────────┤\n",
       "│ block2_pool (\u001b[38;5;33mMaxPooling2D\u001b[0m)           │ (\u001b[38;5;45mNone\u001b[0m, \u001b[38;5;34m56\u001b[0m, \u001b[38;5;34m56\u001b[0m, \u001b[38;5;34m128\u001b[0m)         │               \u001b[38;5;34m0\u001b[0m │\n",
       "├──────────────────────────────────────┼─────────────────────────────┼─────────────────┤\n",
       "│ block3_conv1 (\u001b[38;5;33mConv2D\u001b[0m)                │ (\u001b[38;5;45mNone\u001b[0m, \u001b[38;5;34m56\u001b[0m, \u001b[38;5;34m56\u001b[0m, \u001b[38;5;34m256\u001b[0m)         │         \u001b[38;5;34m295,168\u001b[0m │\n",
       "├──────────────────────────────────────┼─────────────────────────────┼─────────────────┤\n",
       "│ block3_conv2 (\u001b[38;5;33mConv2D\u001b[0m)                │ (\u001b[38;5;45mNone\u001b[0m, \u001b[38;5;34m56\u001b[0m, \u001b[38;5;34m56\u001b[0m, \u001b[38;5;34m256\u001b[0m)         │         \u001b[38;5;34m590,080\u001b[0m │\n",
       "├──────────────────────────────────────┼─────────────────────────────┼─────────────────┤\n",
       "│ block3_conv3 (\u001b[38;5;33mConv2D\u001b[0m)                │ (\u001b[38;5;45mNone\u001b[0m, \u001b[38;5;34m56\u001b[0m, \u001b[38;5;34m56\u001b[0m, \u001b[38;5;34m256\u001b[0m)         │         \u001b[38;5;34m590,080\u001b[0m │\n",
       "├──────────────────────────────────────┼─────────────────────────────┼─────────────────┤\n",
       "│ block3_conv4 (\u001b[38;5;33mConv2D\u001b[0m)                │ (\u001b[38;5;45mNone\u001b[0m, \u001b[38;5;34m56\u001b[0m, \u001b[38;5;34m56\u001b[0m, \u001b[38;5;34m256\u001b[0m)         │         \u001b[38;5;34m590,080\u001b[0m │\n",
       "├──────────────────────────────────────┼─────────────────────────────┼─────────────────┤\n",
       "│ block3_pool (\u001b[38;5;33mMaxPooling2D\u001b[0m)           │ (\u001b[38;5;45mNone\u001b[0m, \u001b[38;5;34m28\u001b[0m, \u001b[38;5;34m28\u001b[0m, \u001b[38;5;34m256\u001b[0m)         │               \u001b[38;5;34m0\u001b[0m │\n",
       "├──────────────────────────────────────┼─────────────────────────────┼─────────────────┤\n",
       "│ block4_conv1 (\u001b[38;5;33mConv2D\u001b[0m)                │ (\u001b[38;5;45mNone\u001b[0m, \u001b[38;5;34m28\u001b[0m, \u001b[38;5;34m28\u001b[0m, \u001b[38;5;34m512\u001b[0m)         │       \u001b[38;5;34m1,180,160\u001b[0m │\n",
       "├──────────────────────────────────────┼─────────────────────────────┼─────────────────┤\n",
       "│ block4_conv2 (\u001b[38;5;33mConv2D\u001b[0m)                │ (\u001b[38;5;45mNone\u001b[0m, \u001b[38;5;34m28\u001b[0m, \u001b[38;5;34m28\u001b[0m, \u001b[38;5;34m512\u001b[0m)         │       \u001b[38;5;34m2,359,808\u001b[0m │\n",
       "├──────────────────────────────────────┼─────────────────────────────┼─────────────────┤\n",
       "│ block4_conv3 (\u001b[38;5;33mConv2D\u001b[0m)                │ (\u001b[38;5;45mNone\u001b[0m, \u001b[38;5;34m28\u001b[0m, \u001b[38;5;34m28\u001b[0m, \u001b[38;5;34m512\u001b[0m)         │       \u001b[38;5;34m2,359,808\u001b[0m │\n",
       "├──────────────────────────────────────┼─────────────────────────────┼─────────────────┤\n",
       "│ block4_conv4 (\u001b[38;5;33mConv2D\u001b[0m)                │ (\u001b[38;5;45mNone\u001b[0m, \u001b[38;5;34m28\u001b[0m, \u001b[38;5;34m28\u001b[0m, \u001b[38;5;34m512\u001b[0m)         │       \u001b[38;5;34m2,359,808\u001b[0m │\n",
       "├──────────────────────────────────────┼─────────────────────────────┼─────────────────┤\n",
       "│ block4_pool (\u001b[38;5;33mMaxPooling2D\u001b[0m)           │ (\u001b[38;5;45mNone\u001b[0m, \u001b[38;5;34m14\u001b[0m, \u001b[38;5;34m14\u001b[0m, \u001b[38;5;34m512\u001b[0m)         │               \u001b[38;5;34m0\u001b[0m │\n",
       "├──────────────────────────────────────┼─────────────────────────────┼─────────────────┤\n",
       "│ block5_conv1 (\u001b[38;5;33mConv2D\u001b[0m)                │ (\u001b[38;5;45mNone\u001b[0m, \u001b[38;5;34m14\u001b[0m, \u001b[38;5;34m14\u001b[0m, \u001b[38;5;34m512\u001b[0m)         │       \u001b[38;5;34m2,359,808\u001b[0m │\n",
       "├──────────────────────────────────────┼─────────────────────────────┼─────────────────┤\n",
       "│ block5_conv2 (\u001b[38;5;33mConv2D\u001b[0m)                │ (\u001b[38;5;45mNone\u001b[0m, \u001b[38;5;34m14\u001b[0m, \u001b[38;5;34m14\u001b[0m, \u001b[38;5;34m512\u001b[0m)         │       \u001b[38;5;34m2,359,808\u001b[0m │\n",
       "├──────────────────────────────────────┼─────────────────────────────┼─────────────────┤\n",
       "│ block5_conv3 (\u001b[38;5;33mConv2D\u001b[0m)                │ (\u001b[38;5;45mNone\u001b[0m, \u001b[38;5;34m14\u001b[0m, \u001b[38;5;34m14\u001b[0m, \u001b[38;5;34m512\u001b[0m)         │       \u001b[38;5;34m2,359,808\u001b[0m │\n",
       "├──────────────────────────────────────┼─────────────────────────────┼─────────────────┤\n",
       "│ block5_conv4 (\u001b[38;5;33mConv2D\u001b[0m)                │ (\u001b[38;5;45mNone\u001b[0m, \u001b[38;5;34m14\u001b[0m, \u001b[38;5;34m14\u001b[0m, \u001b[38;5;34m512\u001b[0m)         │       \u001b[38;5;34m2,359,808\u001b[0m │\n",
       "├──────────────────────────────────────┼─────────────────────────────┼─────────────────┤\n",
       "│ block5_pool (\u001b[38;5;33mMaxPooling2D\u001b[0m)           │ (\u001b[38;5;45mNone\u001b[0m, \u001b[38;5;34m7\u001b[0m, \u001b[38;5;34m7\u001b[0m, \u001b[38;5;34m512\u001b[0m)           │               \u001b[38;5;34m0\u001b[0m │\n",
       "├──────────────────────────────────────┼─────────────────────────────┼─────────────────┤\n",
       "│ flatten (\u001b[38;5;33mFlatten\u001b[0m)                    │ (\u001b[38;5;45mNone\u001b[0m, \u001b[38;5;34m25088\u001b[0m)               │               \u001b[38;5;34m0\u001b[0m │\n",
       "├──────────────────────────────────────┼─────────────────────────────┼─────────────────┤\n",
       "│ dense (\u001b[38;5;33mDense\u001b[0m)                        │ (\u001b[38;5;45mNone\u001b[0m, \u001b[38;5;34m2\u001b[0m)                   │          \u001b[38;5;34m50,178\u001b[0m │\n",
       "└──────────────────────────────────────┴─────────────────────────────┴─────────────────┘\n"
      ]
     },
     "metadata": {},
     "output_type": "display_data"
    },
    {
     "data": {
      "text/html": [
       "<pre style=\"white-space:pre;overflow-x:auto;line-height:normal;font-family:Menlo,'DejaVu Sans Mono',consolas,'Courier New',monospace\"><span style=\"font-weight: bold\"> Total params: </span><span style=\"color: #00af00; text-decoration-color: #00af00\">20,074,562</span> (76.58 MB)\n",
       "</pre>\n"
      ],
      "text/plain": [
       "\u001b[1m Total params: \u001b[0m\u001b[38;5;34m20,074,562\u001b[0m (76.58 MB)\n"
      ]
     },
     "metadata": {},
     "output_type": "display_data"
    },
    {
     "data": {
      "text/html": [
       "<pre style=\"white-space:pre;overflow-x:auto;line-height:normal;font-family:Menlo,'DejaVu Sans Mono',consolas,'Courier New',monospace\"><span style=\"font-weight: bold\"> Trainable params: </span><span style=\"color: #00af00; text-decoration-color: #00af00\">50,178</span> (196.01 KB)\n",
       "</pre>\n"
      ],
      "text/plain": [
       "\u001b[1m Trainable params: \u001b[0m\u001b[38;5;34m50,178\u001b[0m (196.01 KB)\n"
      ]
     },
     "metadata": {},
     "output_type": "display_data"
    },
    {
     "data": {
      "text/html": [
       "<pre style=\"white-space:pre;overflow-x:auto;line-height:normal;font-family:Menlo,'DejaVu Sans Mono',consolas,'Courier New',monospace\"><span style=\"font-weight: bold\"> Non-trainable params: </span><span style=\"color: #00af00; text-decoration-color: #00af00\">20,024,384</span> (76.39 MB)\n",
       "</pre>\n"
      ],
      "text/plain": [
       "\u001b[1m Non-trainable params: \u001b[0m\u001b[38;5;34m20,024,384\u001b[0m (76.39 MB)\n"
      ]
     },
     "metadata": {},
     "output_type": "display_data"
    }
   ],
   "source": [
    "# Display the complete architecture of the model\n",
    "# model.summary() provides a detailed layer-by-layer overview, including:\n",
    "# - Layer names and types\n",
    "# - Output shape of each layer\n",
    "# - Number of trainable and non-trainable parameters\n",
    "# This helps verify that the model is correctly built and that only the intended layers are trainable\n",
    "model.summary()\n"
   ]
  },
  {
   "cell_type": "code",
   "execution_count": 19,
   "id": "af3f5d7a-d8ed-4323-8d2a-720d5077e761",
   "metadata": {},
   "outputs": [],
   "source": [
    "# Import MaxPooling2D layer from Keras\n",
    "# MaxPooling2D is used to reduce the spatial dimensions (height and width) of feature maps\n",
    "# It helps in minimizing computational complexity and prevents overfitting by summarizing feature information\n",
    "from tensorflow.keras.layers import MaxPooling2D\n"
   ]
  },
  {
   "cell_type": "code",
   "execution_count": 20,
   "id": "6f867876-9744-409d-bde0-65f048cae6c6",
   "metadata": {},
   "outputs": [
    {
     "name": "stderr",
     "output_type": "stream",
     "text": [
      "C:\\Users\\dell\\AppData\\Local\\Programs\\Python\\Python313\\Lib\\site-packages\\keras\\src\\layers\\convolutional\\base_conv.py:113: UserWarning: Do not pass an `input_shape`/`input_dim` argument to a layer. When using Sequential models, prefer using an `Input(shape)` object as the first layer in the model instead.\n",
      "  super().__init__(activity_regularizer=activity_regularizer, **kwargs)\n"
     ]
    },
    {
     "data": {
      "text/html": [
       "<pre style=\"white-space:pre;overflow-x:auto;line-height:normal;font-family:Menlo,'DejaVu Sans Mono',consolas,'Courier New',monospace\"><span style=\"font-weight: bold\">Model: \"sequential\"</span>\n",
       "</pre>\n"
      ],
      "text/plain": [
       "\u001b[1mModel: \"sequential\"\u001b[0m\n"
      ]
     },
     "metadata": {},
     "output_type": "display_data"
    },
    {
     "data": {
      "text/html": [
       "<pre style=\"white-space:pre;overflow-x:auto;line-height:normal;font-family:Menlo,'DejaVu Sans Mono',consolas,'Courier New',monospace\">┏━━━━━━━━━━━━━━━━━━━━━━━━━━━━━━━━━━━━━━┳━━━━━━━━━━━━━━━━━━━━━━━━━━━━━┳━━━━━━━━━━━━━━━━━┓\n",
       "┃<span style=\"font-weight: bold\"> Layer (type)                         </span>┃<span style=\"font-weight: bold\"> Output Shape                </span>┃<span style=\"font-weight: bold\">         Param # </span>┃\n",
       "┡━━━━━━━━━━━━━━━━━━━━━━━━━━━━━━━━━━━━━━╇━━━━━━━━━━━━━━━━━━━━━━━━━━━━━╇━━━━━━━━━━━━━━━━━┩\n",
       "│ conv2d (<span style=\"color: #0087ff; text-decoration-color: #0087ff\">Conv2D</span>)                      │ (<span style=\"color: #00d7ff; text-decoration-color: #00d7ff\">None</span>, <span style=\"color: #00af00; text-decoration-color: #00af00\">224</span>, <span style=\"color: #00af00; text-decoration-color: #00af00\">224</span>, <span style=\"color: #00af00; text-decoration-color: #00af00\">16</span>)        │             <span style=\"color: #00af00; text-decoration-color: #00af00\">208</span> │\n",
       "├──────────────────────────────────────┼─────────────────────────────┼─────────────────┤\n",
       "│ max_pooling2d (<span style=\"color: #0087ff; text-decoration-color: #0087ff\">MaxPooling2D</span>)         │ (<span style=\"color: #00d7ff; text-decoration-color: #00d7ff\">None</span>, <span style=\"color: #00af00; text-decoration-color: #00af00\">112</span>, <span style=\"color: #00af00; text-decoration-color: #00af00\">112</span>, <span style=\"color: #00af00; text-decoration-color: #00af00\">16</span>)        │               <span style=\"color: #00af00; text-decoration-color: #00af00\">0</span> │\n",
       "├──────────────────────────────────────┼─────────────────────────────┼─────────────────┤\n",
       "│ conv2d_1 (<span style=\"color: #0087ff; text-decoration-color: #0087ff\">Conv2D</span>)                    │ (<span style=\"color: #00d7ff; text-decoration-color: #00d7ff\">None</span>, <span style=\"color: #00af00; text-decoration-color: #00af00\">112</span>, <span style=\"color: #00af00; text-decoration-color: #00af00\">112</span>, <span style=\"color: #00af00; text-decoration-color: #00af00\">32</span>)        │           <span style=\"color: #00af00; text-decoration-color: #00af00\">2,080</span> │\n",
       "├──────────────────────────────────────┼─────────────────────────────┼─────────────────┤\n",
       "│ max_pooling2d_1 (<span style=\"color: #0087ff; text-decoration-color: #0087ff\">MaxPooling2D</span>)       │ (<span style=\"color: #00d7ff; text-decoration-color: #00d7ff\">None</span>, <span style=\"color: #00af00; text-decoration-color: #00af00\">56</span>, <span style=\"color: #00af00; text-decoration-color: #00af00\">56</span>, <span style=\"color: #00af00; text-decoration-color: #00af00\">32</span>)          │               <span style=\"color: #00af00; text-decoration-color: #00af00\">0</span> │\n",
       "├──────────────────────────────────────┼─────────────────────────────┼─────────────────┤\n",
       "│ conv2d_2 (<span style=\"color: #0087ff; text-decoration-color: #0087ff\">Conv2D</span>)                    │ (<span style=\"color: #00d7ff; text-decoration-color: #00d7ff\">None</span>, <span style=\"color: #00af00; text-decoration-color: #00af00\">56</span>, <span style=\"color: #00af00; text-decoration-color: #00af00\">56</span>, <span style=\"color: #00af00; text-decoration-color: #00af00\">64</span>)          │           <span style=\"color: #00af00; text-decoration-color: #00af00\">8,256</span> │\n",
       "├──────────────────────────────────────┼─────────────────────────────┼─────────────────┤\n",
       "│ max_pooling2d_2 (<span style=\"color: #0087ff; text-decoration-color: #0087ff\">MaxPooling2D</span>)       │ (<span style=\"color: #00d7ff; text-decoration-color: #00d7ff\">None</span>, <span style=\"color: #00af00; text-decoration-color: #00af00\">28</span>, <span style=\"color: #00af00; text-decoration-color: #00af00\">28</span>, <span style=\"color: #00af00; text-decoration-color: #00af00\">64</span>)          │               <span style=\"color: #00af00; text-decoration-color: #00af00\">0</span> │\n",
       "├──────────────────────────────────────┼─────────────────────────────┼─────────────────┤\n",
       "│ flatten_1 (<span style=\"color: #0087ff; text-decoration-color: #0087ff\">Flatten</span>)                  │ (<span style=\"color: #00d7ff; text-decoration-color: #00d7ff\">None</span>, <span style=\"color: #00af00; text-decoration-color: #00af00\">50176</span>)               │               <span style=\"color: #00af00; text-decoration-color: #00af00\">0</span> │\n",
       "├──────────────────────────────────────┼─────────────────────────────┼─────────────────┤\n",
       "│ dense_1 (<span style=\"color: #0087ff; text-decoration-color: #0087ff\">Dense</span>)                      │ (<span style=\"color: #00d7ff; text-decoration-color: #00d7ff\">None</span>, <span style=\"color: #00af00; text-decoration-color: #00af00\">500</span>)                 │      <span style=\"color: #00af00; text-decoration-color: #00af00\">25,088,500</span> │\n",
       "├──────────────────────────────────────┼─────────────────────────────┼─────────────────┤\n",
       "│ dense_2 (<span style=\"color: #0087ff; text-decoration-color: #0087ff\">Dense</span>)                      │ (<span style=\"color: #00d7ff; text-decoration-color: #00d7ff\">None</span>, <span style=\"color: #00af00; text-decoration-color: #00af00\">2</span>)                   │           <span style=\"color: #00af00; text-decoration-color: #00af00\">1,002</span> │\n",
       "└──────────────────────────────────────┴─────────────────────────────┴─────────────────┘\n",
       "</pre>\n"
      ],
      "text/plain": [
       "┏━━━━━━━━━━━━━━━━━━━━━━━━━━━━━━━━━━━━━━┳━━━━━━━━━━━━━━━━━━━━━━━━━━━━━┳━━━━━━━━━━━━━━━━━┓\n",
       "┃\u001b[1m \u001b[0m\u001b[1mLayer (type)                        \u001b[0m\u001b[1m \u001b[0m┃\u001b[1m \u001b[0m\u001b[1mOutput Shape               \u001b[0m\u001b[1m \u001b[0m┃\u001b[1m \u001b[0m\u001b[1m        Param #\u001b[0m\u001b[1m \u001b[0m┃\n",
       "┡━━━━━━━━━━━━━━━━━━━━━━━━━━━━━━━━━━━━━━╇━━━━━━━━━━━━━━━━━━━━━━━━━━━━━╇━━━━━━━━━━━━━━━━━┩\n",
       "│ conv2d (\u001b[38;5;33mConv2D\u001b[0m)                      │ (\u001b[38;5;45mNone\u001b[0m, \u001b[38;5;34m224\u001b[0m, \u001b[38;5;34m224\u001b[0m, \u001b[38;5;34m16\u001b[0m)        │             \u001b[38;5;34m208\u001b[0m │\n",
       "├──────────────────────────────────────┼─────────────────────────────┼─────────────────┤\n",
       "│ max_pooling2d (\u001b[38;5;33mMaxPooling2D\u001b[0m)         │ (\u001b[38;5;45mNone\u001b[0m, \u001b[38;5;34m112\u001b[0m, \u001b[38;5;34m112\u001b[0m, \u001b[38;5;34m16\u001b[0m)        │               \u001b[38;5;34m0\u001b[0m │\n",
       "├──────────────────────────────────────┼─────────────────────────────┼─────────────────┤\n",
       "│ conv2d_1 (\u001b[38;5;33mConv2D\u001b[0m)                    │ (\u001b[38;5;45mNone\u001b[0m, \u001b[38;5;34m112\u001b[0m, \u001b[38;5;34m112\u001b[0m, \u001b[38;5;34m32\u001b[0m)        │           \u001b[38;5;34m2,080\u001b[0m │\n",
       "├──────────────────────────────────────┼─────────────────────────────┼─────────────────┤\n",
       "│ max_pooling2d_1 (\u001b[38;5;33mMaxPooling2D\u001b[0m)       │ (\u001b[38;5;45mNone\u001b[0m, \u001b[38;5;34m56\u001b[0m, \u001b[38;5;34m56\u001b[0m, \u001b[38;5;34m32\u001b[0m)          │               \u001b[38;5;34m0\u001b[0m │\n",
       "├──────────────────────────────────────┼─────────────────────────────┼─────────────────┤\n",
       "│ conv2d_2 (\u001b[38;5;33mConv2D\u001b[0m)                    │ (\u001b[38;5;45mNone\u001b[0m, \u001b[38;5;34m56\u001b[0m, \u001b[38;5;34m56\u001b[0m, \u001b[38;5;34m64\u001b[0m)          │           \u001b[38;5;34m8,256\u001b[0m │\n",
       "├──────────────────────────────────────┼─────────────────────────────┼─────────────────┤\n",
       "│ max_pooling2d_2 (\u001b[38;5;33mMaxPooling2D\u001b[0m)       │ (\u001b[38;5;45mNone\u001b[0m, \u001b[38;5;34m28\u001b[0m, \u001b[38;5;34m28\u001b[0m, \u001b[38;5;34m64\u001b[0m)          │               \u001b[38;5;34m0\u001b[0m │\n",
       "├──────────────────────────────────────┼─────────────────────────────┼─────────────────┤\n",
       "│ flatten_1 (\u001b[38;5;33mFlatten\u001b[0m)                  │ (\u001b[38;5;45mNone\u001b[0m, \u001b[38;5;34m50176\u001b[0m)               │               \u001b[38;5;34m0\u001b[0m │\n",
       "├──────────────────────────────────────┼─────────────────────────────┼─────────────────┤\n",
       "│ dense_1 (\u001b[38;5;33mDense\u001b[0m)                      │ (\u001b[38;5;45mNone\u001b[0m, \u001b[38;5;34m500\u001b[0m)                 │      \u001b[38;5;34m25,088,500\u001b[0m │\n",
       "├──────────────────────────────────────┼─────────────────────────────┼─────────────────┤\n",
       "│ dense_2 (\u001b[38;5;33mDense\u001b[0m)                      │ (\u001b[38;5;45mNone\u001b[0m, \u001b[38;5;34m2\u001b[0m)                   │           \u001b[38;5;34m1,002\u001b[0m │\n",
       "└──────────────────────────────────────┴─────────────────────────────┴─────────────────┘\n"
      ]
     },
     "metadata": {},
     "output_type": "display_data"
    },
    {
     "data": {
      "text/html": [
       "<pre style=\"white-space:pre;overflow-x:auto;line-height:normal;font-family:Menlo,'DejaVu Sans Mono',consolas,'Courier New',monospace\"><span style=\"font-weight: bold\"> Total params: </span><span style=\"color: #00af00; text-decoration-color: #00af00\">25,100,046</span> (95.75 MB)\n",
       "</pre>\n"
      ],
      "text/plain": [
       "\u001b[1m Total params: \u001b[0m\u001b[38;5;34m25,100,046\u001b[0m (95.75 MB)\n"
      ]
     },
     "metadata": {},
     "output_type": "display_data"
    },
    {
     "data": {
      "text/html": [
       "<pre style=\"white-space:pre;overflow-x:auto;line-height:normal;font-family:Menlo,'DejaVu Sans Mono',consolas,'Courier New',monospace\"><span style=\"font-weight: bold\"> Trainable params: </span><span style=\"color: #00af00; text-decoration-color: #00af00\">25,100,046</span> (95.75 MB)\n",
       "</pre>\n"
      ],
      "text/plain": [
       "\u001b[1m Trainable params: \u001b[0m\u001b[38;5;34m25,100,046\u001b[0m (95.75 MB)\n"
      ]
     },
     "metadata": {},
     "output_type": "display_data"
    },
    {
     "data": {
      "text/html": [
       "<pre style=\"white-space:pre;overflow-x:auto;line-height:normal;font-family:Menlo,'DejaVu Sans Mono',consolas,'Courier New',monospace\"><span style=\"font-weight: bold\"> Non-trainable params: </span><span style=\"color: #00af00; text-decoration-color: #00af00\">0</span> (0.00 B)\n",
       "</pre>\n"
      ],
      "text/plain": [
       "\u001b[1m Non-trainable params: \u001b[0m\u001b[38;5;34m0\u001b[0m (0.00 B)\n"
      ]
     },
     "metadata": {},
     "output_type": "display_data"
    }
   ],
   "source": [
    "### Create a Convolutional Neural Network (CNN) model from scratch using Sequential API\n",
    "from tensorflow.keras.models import Sequential\n",
    "from tensorflow.keras.layers import Conv2D, MaxPooling2D, Flatten, Dense\n",
    "\n",
    "# Initialize the Sequential model\n",
    "# Sequential allows us to stack layers in a linear order\n",
    "model = Sequential()\n",
    "\n",
    "# First convolutional layer\n",
    "# - 16 filters of size 2x2\n",
    "# - 'same' padding keeps output size same as input\n",
    "# - 'relu' activation introduces non-linearity\n",
    "# - input_shape=(224,224,3) specifies input image dimensions (RGB)\n",
    "model.add(Conv2D(filters=16, kernel_size=2, padding=\"same\", activation=\"relu\", input_shape=(224,224,3)))\n",
    "\n",
    "# First max pooling layer\n",
    "# - Pool size of 2x2 reduces spatial dimensions by half\n",
    "# - Helps reduce computation and extract dominant features\n",
    "model.add(MaxPooling2D(pool_size=2))\n",
    "\n",
    "# Second convolutional layer\n",
    "# - 32 filters of size 2x2\n",
    "# - 'same' padding maintains spatial dimensions\n",
    "# - 'relu' activation introduces non-linearity\n",
    "model.add(Conv2D(filters=32, kernel_size=2, padding=\"same\", activation=\"relu\"))\n",
    "\n",
    "# Second max pooling layer\n",
    "# - Further reduces spatial dimensions\n",
    "model.add(MaxPooling2D(pool_size=2))\n",
    "\n",
    "# Third convolutional layer\n",
    "# - 64 filters of size 2x2\n",
    "# - 'same' padding maintains spatial dimensions\n",
    "# - 'relu' activation introduces non-linearity\n",
    "model.add(Conv2D(filters=64, kernel_size=2, padding=\"same\", activation=\"relu\"))\n",
    "\n",
    "# Third max pooling layer\n",
    "# - Reduces spatial dimensions\n",
    "# - Helps in extracting dominant features and reducing overfitting\n",
    "model.add(MaxPooling2D(pool_size=2))\n",
    "\n",
    "# Flatten the 3D feature maps into a 1D vector for fully connected layers\n",
    "model.add(Flatten())\n",
    "\n",
    "# Fully connected (Dense) layer with 500 neurons and ReLU activation\n",
    "# - Learns complex feature representations from flattened vector\n",
    "model.add(Dense(500, activation=\"relu\"))\n",
    "\n",
    "# Output layer with 2 neurons (for binary classification) and softmax activation\n",
    "# - Produces probability distribution for each class\n",
    "model.add(Dense(2, activation=\"softmax\"))\n",
    "\n",
    "# Display the model summary\n",
    "# - Shows layer-by-layer architecture\n",
    "# - Output shapes\n",
    "# - Number of trainable parameters\n",
    "model.summary()\n"
   ]
  },
  {
   "cell_type": "code",
   "execution_count": 21,
   "id": "70a5c819-1d55-4175-9e6e-3bb5bcd59277",
   "metadata": {},
   "outputs": [],
   "source": [
    "# Compile the CNN model by specifying the loss function, optimizer, and evaluation metrics\n",
    "# - loss='categorical_crossentropy': Suitable for multi-class classification problems (use 'binary_crossentropy' for 2-class binary labels)\n",
    "# - optimizer='adam': Adam optimizer adjusts learning rate adaptively for faster and efficient training\n",
    "# - metrics=['accuracy']: The model will track accuracy during training and evaluation\n",
    "model.compile(\n",
    "    loss='categorical_crossentropy',\n",
    "    optimizer='adam',\n",
    "    metrics=['accuracy']\n",
    ")\n"
   ]
  },
  {
   "cell_type": "code",
   "execution_count": 22,
   "id": "cf416ac4-d844-410c-8966-596605235f8c",
   "metadata": {},
   "outputs": [],
   "source": [
    "# Import ImageDataGenerator from Keras\n",
    "# ImageDataGenerator allows real-time data augmentation and preprocessing for training and testing datasets\n",
    "from tensorflow.keras.preprocessing.image import ImageDataGenerator\n",
    "\n",
    "# Define the training data generator with data augmentation\n",
    "# - rescale=1./255: Normalize pixel values from [0,255] to [0,1] for better convergence\n",
    "# - shear_range=0.2: Apply random shear transformations to make the model invariant to shape distortions\n",
    "# - zoom_range=0.2: Apply random zooms to make the model robust to scale variations\n",
    "# - horizontal_flip=True: Randomly flip images horizontally to augment training data\n",
    "train_datagen = ImageDataGenerator(rescale=1./255,\n",
    "                                   shear_range=0.2,\n",
    "                                   zoom_range=0.2,\n",
    "                                   horizontal_flip=True)\n",
    "\n",
    "# Define the testing/validation data generator\n",
    "# - Only rescaling is applied; no augmentation to ensure evaluation is on actual image distribution\n",
    "test_datagen = ImageDataGenerator(rescale=1./255)\n"
   ]
  },
  {
   "cell_type": "code",
   "execution_count": 23,
   "id": "6a2f68f4-2144-4dc2-90a3-4102bf08ac63",
   "metadata": {},
   "outputs": [
    {
     "name": "stdout",
     "output_type": "stream",
     "text": [
      "Found 416 images belonging to 2 classes.\n"
     ]
    }
   ],
   "source": [
    "# Load the training dataset from the directory using ImageDataGenerator\n",
    "# - 'Dataset/Train' is the folder containing subfolders for each class\n",
    "# - target_size=(224,224): Resize all images to match the input size expected by the model\n",
    "# - batch_size=32: Number of images processed in each training step\n",
    "# - class_mode='categorical': Labels are converted into one-hot encoded vectors for multi-class classification\n",
    "training_set = train_datagen.flow_from_directory(\n",
    "    'Dataset/Train',\n",
    "    target_size=(224, 224),\n",
    "    batch_size=32,\n",
    "    class_mode='categorical'\n",
    ")\n"
   ]
  },
  {
   "cell_type": "code",
   "execution_count": 24,
   "id": "8073ac33-7c95-4f05-a578-1571e46f968d",
   "metadata": {},
   "outputs": [
    {
     "data": {
      "text/plain": [
       "<keras.src.legacy.preprocessing.image.DirectoryIterator at 0x2595bb0ecf0>"
      ]
     },
     "execution_count": 24,
     "metadata": {},
     "output_type": "execute_result"
    }
   ],
   "source": [
    "training_set"
   ]
  },
  {
   "cell_type": "code",
   "execution_count": 25,
   "id": "350c523c-2d9e-4001-a4eb-d0b0c38beeb1",
   "metadata": {},
   "outputs": [
    {
     "name": "stdout",
     "output_type": "stream",
     "text": [
      "Found 134 images belonging to 2 classes.\n"
     ]
    }
   ],
   "source": [
    "# Load the testing/validation dataset from the directory using ImageDataGenerator\n",
    "# - 'Dataset/Test' is the folder containing subfolders for each class\n",
    "# - target_size=(224,224): Resize all images to match the input size expected by the model\n",
    "# - batch_size=32: Number of images processed in each step during evaluation\n",
    "# - class_mode='categorical': Labels are converted into one-hot encoded vectors for multi-class classification\n",
    "# Note: No data augmentation is applied here; only rescaling is performed\n",
    "test_set = test_datagen.flow_from_directory(\n",
    "    'Dataset/Test',\n",
    "    target_size=(224, 224),\n",
    "    batch_size=32,\n",
    "    class_mode='categorical'\n",
    ")\n"
   ]
  },
  {
   "cell_type": "code",
   "execution_count": 30,
   "id": "2ed9c985-398b-4fdb-90b8-e7d362c0e67d",
   "metadata": {},
   "outputs": [
    {
     "name": "stderr",
     "output_type": "stream",
     "text": [
      "C:\\Users\\dell\\AppData\\Local\\Programs\\Python\\Python313\\Lib\\site-packages\\keras\\src\\trainers\\data_adapters\\py_dataset_adapter.py:121: UserWarning: Your `PyDataset` class should call `super().__init__(**kwargs)` in its constructor. `**kwargs` can include `workers`, `use_multiprocessing`, `max_queue_size`. Do not pass these arguments to `fit()`, as they will be ignored.\n",
      "  self._warn_if_super_not_called()\n"
     ]
    },
    {
     "name": "stdout",
     "output_type": "stream",
     "text": [
      "Epoch 1/50\n",
      "\u001b[1m13/13\u001b[0m \u001b[32m━━━━━━━━━━━━━━━━━━━━\u001b[0m\u001b[37m\u001b[0m \u001b[1m27s\u001b[0m 2s/step - accuracy: 0.4808 - loss: 2.7529 - val_accuracy: 0.3358 - val_loss: 1.2537\n",
      "Epoch 2/50\n",
      "\u001b[1m13/13\u001b[0m \u001b[32m━━━━━━━━━━━━━━━━━━━━\u001b[0m\u001b[37m\u001b[0m \u001b[1m15s\u001b[0m 1s/step - accuracy: 0.5577 - loss: 0.6772 - val_accuracy: 0.4627 - val_loss: 0.7019\n",
      "Epoch 3/50\n",
      "\u001b[1m13/13\u001b[0m \u001b[32m━━━━━━━━━━━━━━━━━━━━\u001b[0m\u001b[37m\u001b[0m \u001b[1m15s\u001b[0m 1s/step - accuracy: 0.7644 - loss: 0.5450 - val_accuracy: 0.4328 - val_loss: 0.8002\n",
      "Epoch 4/50\n",
      "\u001b[1m13/13\u001b[0m \u001b[32m━━━━━━━━━━━━━━━━━━━━\u001b[0m\u001b[37m\u001b[0m \u001b[1m15s\u001b[0m 1s/step - accuracy: 0.7404 - loss: 0.4963 - val_accuracy: 0.4254 - val_loss: 0.8647\n",
      "Epoch 5/50\n",
      "\u001b[1m13/13\u001b[0m \u001b[32m━━━━━━━━━━━━━━━━━━━━\u001b[0m\u001b[37m\u001b[0m \u001b[1m15s\u001b[0m 1s/step - accuracy: 0.7837 - loss: 0.4266 - val_accuracy: 0.4552 - val_loss: 0.9594\n",
      "Epoch 6/50\n",
      "\u001b[1m13/13\u001b[0m \u001b[32m━━━━━━━━━━━━━━━━━━━━\u001b[0m\u001b[37m\u001b[0m \u001b[1m16s\u001b[0m 1s/step - accuracy: 0.7957 - loss: 0.4369 - val_accuracy: 0.4179 - val_loss: 0.8461\n",
      "Epoch 7/50\n",
      "\u001b[1m13/13\u001b[0m \u001b[32m━━━━━━━━━━━━━━━━━━━━\u001b[0m\u001b[37m\u001b[0m \u001b[1m15s\u001b[0m 1s/step - accuracy: 0.8245 - loss: 0.4165 - val_accuracy: 0.5448 - val_loss: 0.7782\n",
      "Epoch 8/50\n",
      "\u001b[1m13/13\u001b[0m \u001b[32m━━━━━━━━━━━━━━━━━━━━\u001b[0m\u001b[37m\u001b[0m \u001b[1m15s\u001b[0m 1s/step - accuracy: 0.8317 - loss: 0.4029 - val_accuracy: 0.5746 - val_loss: 0.6706\n",
      "Epoch 9/50\n",
      "\u001b[1m13/13\u001b[0m \u001b[32m━━━━━━━━━━━━━━━━━━━━\u001b[0m\u001b[37m\u001b[0m \u001b[1m15s\u001b[0m 1s/step - accuracy: 0.8510 - loss: 0.3293 - val_accuracy: 0.5821 - val_loss: 0.7321\n",
      "Epoch 10/50\n",
      "\u001b[1m13/13\u001b[0m \u001b[32m━━━━━━━━━━━━━━━━━━━━\u001b[0m\u001b[37m\u001b[0m \u001b[1m15s\u001b[0m 1s/step - accuracy: 0.8822 - loss: 0.3256 - val_accuracy: 0.5597 - val_loss: 0.6454\n",
      "Epoch 11/50\n",
      "\u001b[1m13/13\u001b[0m \u001b[32m━━━━━━━━━━━━━━━━━━━━\u001b[0m\u001b[37m\u001b[0m \u001b[1m15s\u001b[0m 1s/step - accuracy: 0.8966 - loss: 0.2806 - val_accuracy: 0.6343 - val_loss: 0.7060\n",
      "Epoch 12/50\n",
      "\u001b[1m13/13\u001b[0m \u001b[32m━━━━━━━━━━━━━━━━━━━━\u001b[0m\u001b[37m\u001b[0m \u001b[1m16s\u001b[0m 1s/step - accuracy: 0.9062 - loss: 0.2538 - val_accuracy: 0.7239 - val_loss: 0.5263\n",
      "Epoch 13/50\n",
      "\u001b[1m13/13\u001b[0m \u001b[32m━━━━━━━━━━━━━━━━━━━━\u001b[0m\u001b[37m\u001b[0m \u001b[1m15s\u001b[0m 1s/step - accuracy: 0.9327 - loss: 0.1960 - val_accuracy: 0.6940 - val_loss: 0.6037\n",
      "Epoch 14/50\n",
      "\u001b[1m13/13\u001b[0m \u001b[32m━━━━━━━━━━━━━━━━━━━━\u001b[0m\u001b[37m\u001b[0m \u001b[1m15s\u001b[0m 1s/step - accuracy: 0.9327 - loss: 0.1775 - val_accuracy: 0.7687 - val_loss: 0.4856\n",
      "Epoch 15/50\n",
      "\u001b[1m13/13\u001b[0m \u001b[32m━━━━━━━━━━━━━━━━━━━━\u001b[0m\u001b[37m\u001b[0m \u001b[1m15s\u001b[0m 1s/step - accuracy: 0.9471 - loss: 0.1705 - val_accuracy: 0.7910 - val_loss: 0.4686\n",
      "Epoch 16/50\n",
      "\u001b[1m13/13\u001b[0m \u001b[32m━━━━━━━━━━━━━━━━━━━━\u001b[0m\u001b[37m\u001b[0m \u001b[1m15s\u001b[0m 1s/step - accuracy: 0.8918 - loss: 0.2540 - val_accuracy: 0.8358 - val_loss: 0.3937\n",
      "Epoch 17/50\n",
      "\u001b[1m13/13\u001b[0m \u001b[32m━━━━━━━━━━━━━━━━━━━━\u001b[0m\u001b[37m\u001b[0m \u001b[1m20s\u001b[0m 2s/step - accuracy: 0.9447 - loss: 0.1726 - val_accuracy: 0.6866 - val_loss: 0.6605\n",
      "Epoch 18/50\n",
      "\u001b[1m13/13\u001b[0m \u001b[32m━━━━━━━━━━━━━━━━━━━━\u001b[0m\u001b[37m\u001b[0m \u001b[1m20s\u001b[0m 1s/step - accuracy: 0.9351 - loss: 0.1785 - val_accuracy: 0.8060 - val_loss: 0.3899\n",
      "Epoch 19/50\n",
      "\u001b[1m13/13\u001b[0m \u001b[32m━━━━━━━━━━━━━━━━━━━━\u001b[0m\u001b[37m\u001b[0m \u001b[1m20s\u001b[0m 2s/step - accuracy: 0.9519 - loss: 0.1289 - val_accuracy: 0.7910 - val_loss: 0.5341\n",
      "Epoch 20/50\n",
      "\u001b[1m13/13\u001b[0m \u001b[32m━━━━━━━━━━━━━━━━━━━━\u001b[0m\u001b[37m\u001b[0m \u001b[1m16s\u001b[0m 1s/step - accuracy: 0.9591 - loss: 0.1308 - val_accuracy: 0.8507 - val_loss: 0.3720\n",
      "Epoch 21/50\n",
      "\u001b[1m13/13\u001b[0m \u001b[32m━━━━━━━━━━━━━━━━━━━━\u001b[0m\u001b[37m\u001b[0m \u001b[1m15s\u001b[0m 1s/step - accuracy: 0.9615 - loss: 0.1092 - val_accuracy: 0.8507 - val_loss: 0.3722\n",
      "Epoch 22/50\n",
      "\u001b[1m13/13\u001b[0m \u001b[32m━━━━━━━━━━━━━━━━━━━━\u001b[0m\u001b[37m\u001b[0m \u001b[1m15s\u001b[0m 1s/step - accuracy: 0.9639 - loss: 0.1319 - val_accuracy: 0.8507 - val_loss: 0.3507\n",
      "Epoch 23/50\n",
      "\u001b[1m13/13\u001b[0m \u001b[32m━━━━━━━━━━━━━━━━━━━━\u001b[0m\u001b[37m\u001b[0m \u001b[1m13s\u001b[0m 977ms/step - accuracy: 0.9519 - loss: 0.1460 - val_accuracy: 0.8657 - val_loss: 0.3207\n",
      "Epoch 24/50\n",
      "\u001b[1m13/13\u001b[0m \u001b[32m━━━━━━━━━━━━━━━━━━━━\u001b[0m\u001b[37m\u001b[0m \u001b[1m13s\u001b[0m 982ms/step - accuracy: 0.9712 - loss: 0.1024 - val_accuracy: 0.8284 - val_loss: 0.4428\n",
      "Epoch 25/50\n",
      "\u001b[1m13/13\u001b[0m \u001b[32m━━━━━━━━━━━━━━━━━━━━\u001b[0m\u001b[37m\u001b[0m \u001b[1m12s\u001b[0m 934ms/step - accuracy: 0.9736 - loss: 0.0894 - val_accuracy: 0.8881 - val_loss: 0.2907\n",
      "Epoch 26/50\n",
      "\u001b[1m13/13\u001b[0m \u001b[32m━━━━━━━━━━━━━━━━━━━━\u001b[0m\u001b[37m\u001b[0m \u001b[1m12s\u001b[0m 931ms/step - accuracy: 0.9736 - loss: 0.0981 - val_accuracy: 0.8657 - val_loss: 0.3785\n",
      "Epoch 27/50\n",
      "\u001b[1m13/13\u001b[0m \u001b[32m━━━━━━━━━━━━━━━━━━━━\u001b[0m\u001b[37m\u001b[0m \u001b[1m12s\u001b[0m 927ms/step - accuracy: 0.9712 - loss: 0.1000 - val_accuracy: 0.8731 - val_loss: 0.4123\n",
      "Epoch 28/50\n",
      "\u001b[1m13/13\u001b[0m \u001b[32m━━━━━━━━━━━━━━━━━━━━\u001b[0m\u001b[37m\u001b[0m \u001b[1m12s\u001b[0m 942ms/step - accuracy: 0.9784 - loss: 0.0799 - val_accuracy: 0.9104 - val_loss: 0.2391\n",
      "Epoch 29/50\n",
      "\u001b[1m13/13\u001b[0m \u001b[32m━━━━━━━━━━━━━━━━━━━━\u001b[0m\u001b[37m\u001b[0m \u001b[1m12s\u001b[0m 944ms/step - accuracy: 0.9856 - loss: 0.0687 - val_accuracy: 0.8731 - val_loss: 0.4669\n",
      "Epoch 30/50\n",
      "\u001b[1m13/13\u001b[0m \u001b[32m━━━━━━━━━━━━━━━━━━━━\u001b[0m\u001b[37m\u001b[0m \u001b[1m13s\u001b[0m 986ms/step - accuracy: 0.9784 - loss: 0.0755 - val_accuracy: 0.9179 - val_loss: 0.2501\n",
      "Epoch 31/50\n",
      "\u001b[1m13/13\u001b[0m \u001b[32m━━━━━━━━━━━━━━━━━━━━\u001b[0m\u001b[37m\u001b[0m \u001b[1m12s\u001b[0m 949ms/step - accuracy: 0.9784 - loss: 0.0643 - val_accuracy: 0.8806 - val_loss: 0.3158\n",
      "Epoch 32/50\n",
      "\u001b[1m13/13\u001b[0m \u001b[32m━━━━━━━━━━━━━━━━━━━━\u001b[0m\u001b[37m\u001b[0m \u001b[1m12s\u001b[0m 941ms/step - accuracy: 0.9880 - loss: 0.0598 - val_accuracy: 0.8507 - val_loss: 0.5423\n",
      "Epoch 33/50\n",
      "\u001b[1m13/13\u001b[0m \u001b[32m━━━━━━━━━━━━━━━━━━━━\u001b[0m\u001b[37m\u001b[0m \u001b[1m13s\u001b[0m 982ms/step - accuracy: 0.9856 - loss: 0.0711 - val_accuracy: 0.8955 - val_loss: 0.2514\n",
      "Epoch 34/50\n",
      "\u001b[1m13/13\u001b[0m \u001b[32m━━━━━━━━━━━━━━━━━━━━\u001b[0m\u001b[37m\u001b[0m \u001b[1m12s\u001b[0m 942ms/step - accuracy: 0.9760 - loss: 0.0648 - val_accuracy: 0.8507 - val_loss: 0.5112\n",
      "Epoch 35/50\n",
      "\u001b[1m13/13\u001b[0m \u001b[32m━━━━━━━━━━━━━━━━━━━━\u001b[0m\u001b[37m\u001b[0m \u001b[1m12s\u001b[0m 934ms/step - accuracy: 0.9736 - loss: 0.0834 - val_accuracy: 0.8731 - val_loss: 0.4253\n",
      "Epoch 36/50\n",
      "\u001b[1m13/13\u001b[0m \u001b[32m━━━━━━━━━━━━━━━━━━━━\u001b[0m\u001b[37m\u001b[0m \u001b[1m12s\u001b[0m 944ms/step - accuracy: 0.9808 - loss: 0.0655 - val_accuracy: 0.8731 - val_loss: 0.4670\n",
      "Epoch 37/50\n",
      "\u001b[1m13/13\u001b[0m \u001b[32m━━━━━━━━━━━━━━━━━━━━\u001b[0m\u001b[37m\u001b[0m \u001b[1m12s\u001b[0m 935ms/step - accuracy: 0.9808 - loss: 0.0544 - val_accuracy: 0.8806 - val_loss: 0.2763\n",
      "Epoch 38/50\n",
      "\u001b[1m13/13\u001b[0m \u001b[32m━━━━━━━━━━━━━━━━━━━━\u001b[0m\u001b[37m\u001b[0m \u001b[1m12s\u001b[0m 942ms/step - accuracy: 0.9856 - loss: 0.0442 - val_accuracy: 0.8731 - val_loss: 0.5381\n",
      "Epoch 39/50\n",
      "\u001b[1m13/13\u001b[0m \u001b[32m━━━━━━━━━━━━━━━━━━━━\u001b[0m\u001b[37m\u001b[0m \u001b[1m12s\u001b[0m 934ms/step - accuracy: 0.9808 - loss: 0.0489 - val_accuracy: 0.9104 - val_loss: 0.2473\n",
      "Epoch 40/50\n",
      "\u001b[1m13/13\u001b[0m \u001b[32m━━━━━━━━━━━━━━━━━━━━\u001b[0m\u001b[37m\u001b[0m \u001b[1m12s\u001b[0m 949ms/step - accuracy: 0.9904 - loss: 0.0399 - val_accuracy: 0.8582 - val_loss: 0.5645\n",
      "Epoch 41/50\n",
      "\u001b[1m13/13\u001b[0m \u001b[32m━━━━━━━━━━━━━━━━━━━━\u001b[0m\u001b[37m\u001b[0m \u001b[1m12s\u001b[0m 927ms/step - accuracy: 0.9880 - loss: 0.0533 - val_accuracy: 0.9179 - val_loss: 0.2279\n",
      "Epoch 42/50\n",
      "\u001b[1m13/13\u001b[0m \u001b[32m━━━━━━━━━━━━━━━━━━━━\u001b[0m\u001b[37m\u001b[0m \u001b[1m13s\u001b[0m 988ms/step - accuracy: 0.9808 - loss: 0.0363 - val_accuracy: 0.8806 - val_loss: 0.4005\n",
      "Epoch 43/50\n",
      "\u001b[1m13/13\u001b[0m \u001b[32m━━━━━━━━━━━━━━━━━━━━\u001b[0m\u001b[37m\u001b[0m \u001b[1m12s\u001b[0m 934ms/step - accuracy: 0.9832 - loss: 0.0568 - val_accuracy: 0.8806 - val_loss: 0.3485\n",
      "Epoch 44/50\n",
      "\u001b[1m13/13\u001b[0m \u001b[32m━━━━━━━━━━━━━━━━━━━━\u001b[0m\u001b[37m\u001b[0m \u001b[1m12s\u001b[0m 950ms/step - accuracy: 0.9856 - loss: 0.0379 - val_accuracy: 0.9104 - val_loss: 0.2343\n",
      "Epoch 45/50\n",
      "\u001b[1m13/13\u001b[0m \u001b[32m━━━━━━━━━━━━━━━━━━━━\u001b[0m\u001b[37m\u001b[0m \u001b[1m12s\u001b[0m 945ms/step - accuracy: 0.9880 - loss: 0.0388 - val_accuracy: 0.8657 - val_loss: 0.5456\n",
      "Epoch 46/50\n",
      "\u001b[1m13/13\u001b[0m \u001b[32m━━━━━━━━━━━━━━━━━━━━\u001b[0m\u001b[37m\u001b[0m \u001b[1m12s\u001b[0m 950ms/step - accuracy: 0.9928 - loss: 0.0291 - val_accuracy: 0.9254 - val_loss: 0.2065\n",
      "Epoch 47/50\n",
      "\u001b[1m13/13\u001b[0m \u001b[32m━━━━━━━━━━━━━━━━━━━━\u001b[0m\u001b[37m\u001b[0m \u001b[1m12s\u001b[0m 951ms/step - accuracy: 0.9928 - loss: 0.0595 - val_accuracy: 0.8507 - val_loss: 0.5327\n",
      "Epoch 48/50\n",
      "\u001b[1m13/13\u001b[0m \u001b[32m━━━━━━━━━━━━━━━━━━━━\u001b[0m\u001b[37m\u001b[0m \u001b[1m13s\u001b[0m 968ms/step - accuracy: 0.9832 - loss: 0.0620 - val_accuracy: 0.8955 - val_loss: 0.2557\n",
      "Epoch 49/50\n",
      "\u001b[1m13/13\u001b[0m \u001b[32m━━━━━━━━━━━━━━━━━━━━\u001b[0m\u001b[37m\u001b[0m \u001b[1m12s\u001b[0m 944ms/step - accuracy: 0.9904 - loss: 0.0527 - val_accuracy: 0.8582 - val_loss: 0.7723\n",
      "Epoch 50/50\n",
      "\u001b[1m13/13\u001b[0m \u001b[32m━━━━━━━━━━━━━━━━━━━━\u001b[0m\u001b[37m\u001b[0m \u001b[1m12s\u001b[0m 941ms/step - accuracy: 0.9688 - loss: 0.1006 - val_accuracy: 0.8731 - val_loss: 0.2852\n"
     ]
    }
   ],
   "source": [
    "# Train the CNN model using the training dataset\n",
    "# model.fit() runs the training loop for the specified number of epochs\n",
    "# - training_set: The training data generator\n",
    "# - validation_data=test_set: Use the test/validation data to evaluate the model after each epoch\n",
    "# - epochs=50: Number of complete passes through the training dataset\n",
    "# - steps_per_epoch=len(training_set): Number of batches per epoch; typically the total training samples divided by batch size\n",
    "# - validation_steps=len(test_set): Number of batches to process from the validation set per epoch\n",
    "# The returned object 'r' stores training history, including loss and accuracy for plotting and analysis\n",
    "r = model.fit(\n",
    "    training_set,\n",
    "    validation_data=test_set,\n",
    "    epochs=50,\n",
    "    steps_per_epoch=len(training_set),\n",
    "    validation_steps=len(test_set)\n",
    ")\n"
   ]
  },
  {
   "cell_type": "code",
   "execution_count": 31,
   "id": "00e102a7-927f-47fc-87e7-397140e082d3",
   "metadata": {},
   "outputs": [
    {
     "data": {
      "image/png": "[encoded data removed]",
      "text/plain": [
       "<Figure size 640x480 with 1 Axes>"
      ]
     },
     "metadata": {},
     "output_type": "display_data"
    },
    {
     "data": {
      "image/png": "[encoded data removed]",
      "text/plain": [
       "<Figure size 640x480 with 1 Axes>"
      ]
     },
     "metadata": {},
     "output_type": "display_data"
    },
    {
     "data": {
      "text/plain": [
       "<Figure size 640x480 with 0 Axes>"
      ]
     },
     "metadata": {},
     "output_type": "display_data"
    }
   ],
   "source": [
    "# Plot the training and validation loss over epochs to visualize model performance\n",
    "\n",
    "# Plot training loss\n",
    "plt.plot(r.history['loss'], label='train loss')\n",
    "# Plot validation loss\n",
    "plt.plot(r.history['val_loss'], label='val loss')\n",
    "# Add legend to differentiate between train and validation loss\n",
    "plt.legend()\n",
    "# Display the plot\n",
    "plt.show()\n",
    "# Save the loss plot as an image file for future reference\n",
    "plt.savefig('LossVal_loss')\n",
    "\n",
    "# Plot the training and validation accuracy over epochs\n",
    "\n",
    "# Plot training accuracy\n",
    "plt.plot(r.history['accuracy'], label='train acc')\n",
    "# Plot validation accuracy\n",
    "plt.plot(r.history['val_accuracy'], label='val acc')\n",
    "# Add legend to differentiate between train and validation accuracy\n",
    "plt.legend()\n",
    "# Display the plot\n",
    "plt.show()\n",
    "# Save the accuracy plot as an image file for future reference\n",
    "plt.savefig('AccVal_acc')\n"
   ]
  },
  {
   "cell_type": "code",
   "execution_count": 95,
   "id": "14843769-26aa-42e2-b503-88c982b5d8e6",
   "metadata": {},
   "outputs": [
    {
     "name": "stderr",
     "output_type": "stream",
     "text": [
      "WARNING:absl:You are saving your model as an HDF5 file via `model.save()` or `keras.saving.save_model(model)`. This file format is considered legacy. We recommend using instead the native Keras format, e.g. `model.save('my_model.keras')` or `keras.saving.save_model(model, 'my_model.keras')`. \n"
     ]
    }
   ],
   "source": [
    "# Import load_model to allow loading saved Keras models later\n",
    "from tensorflow.keras.models import load_model\n",
    "\n",
    "# Save the trained model to an H5 file\n",
    "# - 'model_vgg19.h5' is the filename where the entire model architecture, weights, and optimizer state are stored\n",
    "# - This allows you to reload the model later without retraining\n",
    "model.save('model_vgg19.h5')\n"
   ]
  },
  {
   "cell_type": "code",
   "execution_count": 99,
   "id": "d2b4b312-d80a-4113-a62a-da8d29cae06a",
   "metadata": {},
   "outputs": [
    {
     "name": "stdout",
     "output_type": "stream",
     "text": [
      "\u001b[1m5/5\u001b[0m \u001b[32m━━━━━━━━━━━━━━━━━━━━\u001b[0m\u001b[37m\u001b[0m \u001b[1m1s\u001b[0m 117ms/step\n"
     ]
    }
   ],
   "source": [
    "# Use the trained model to make predictions on the test/validation dataset\n",
    "# - test_set is the data generator containing validation images\n",
    "# - model.predict() returns the predicted probabilities for each class for all images in the test set\n",
    "# - The result 'y_pred' is a NumPy array where each row corresponds to an image and each column corresponds to a class probability\n",
    "y_pred = model.predict(test_set)\n"
   ]
  },
  {
   "cell_type": "code",
   "execution_count": 101,
   "id": "96e1c958-a40f-43ec-95b7-94a89503f8a9",
   "metadata": {
    "scrolled": true
   },
   "outputs": [
    {
     "data": {
      "text/plain": [
       "array([[9.99996066e-01, 3.94323843e-06],\n",
       "       [6.88560680e-02, 9.31143939e-01],\n",
       "       [1.00000000e+00, 2.98859705e-13],\n",
       "       [1.22258537e-01, 8.77741396e-01],\n",
       "       [9.99888301e-01, 1.11726789e-04],\n",
       "       [9.99359429e-01, 6.40549872e-04],\n",
       "       [1.00000000e+00, 6.20096151e-13],\n",
       "       [5.99697053e-01, 4.00302947e-01],\n",
       "       [4.17408831e-02, 9.58259106e-01],\n",
       "       [9.99999285e-01, 7.62221759e-07],\n",
       "       [1.19158670e-01, 8.80841374e-01],\n",
       "       [9.99992609e-01, 7.41212853e-06],\n",
       "       [9.99996066e-01, 3.93204027e-06],\n",
       "       [1.00000000e+00, 1.76044374e-10],\n",
       "       [9.99982595e-01, 1.74227534e-05],\n",
       "       [9.99992847e-01, 7.17942567e-06],\n",
       "       [5.86882606e-02, 9.41311777e-01],\n",
       "       [9.99999881e-01, 1.07700963e-07],\n",
       "       [5.27511425e-02, 9.47248876e-01],\n",
       "       [1.10899629e-02, 9.88910019e-01],\n",
       "       [3.87204327e-02, 9.61279571e-01],\n",
       "       [2.94492424e-01, 7.05507576e-01],\n",
       "       [9.98701692e-01, 1.29824923e-03],\n",
       "       [9.99979973e-01, 2.00233026e-05],\n",
       "       [9.99999762e-01, 2.46447428e-07],\n",
       "       [1.00000000e+00, 8.61211449e-11],\n",
       "       [9.99854922e-01, 1.45105005e-04],\n",
       "       [7.58131519e-02, 9.24186826e-01],\n",
       "       [9.99986529e-01, 1.34934571e-05],\n",
       "       [2.55132280e-02, 9.74486768e-01],\n",
       "       [9.99775350e-01, 2.24690855e-04],\n",
       "       [9.95440602e-01, 4.55940142e-03],\n",
       "       [1.00000000e+00, 1.16379458e-11],\n",
       "       [1.64802521e-01, 8.35197449e-01],\n",
       "       [9.99991775e-01, 8.28489829e-06],\n",
       "       [9.99999881e-01, 1.71096104e-07],\n",
       "       [6.40515238e-02, 9.35948491e-01],\n",
       "       [9.99997497e-01, 2.49786171e-06],\n",
       "       [9.76466611e-02, 9.02353346e-01],\n",
       "       [9.98307824e-01, 1.69215747e-03],\n",
       "       [1.00000000e+00, 4.60826257e-08],\n",
       "       [9.95763421e-01, 4.23655519e-03],\n",
       "       [1.91197172e-01, 8.08802843e-01],\n",
       "       [9.99572456e-01, 4.27483203e-04],\n",
       "       [1.00783631e-01, 8.99216354e-01],\n",
       "       [1.00000000e+00, 2.19100027e-09],\n",
       "       [6.89741597e-02, 9.31025863e-01],\n",
       "       [1.00000000e+00, 2.16665597e-09],\n",
       "       [9.99997973e-01, 2.08600750e-06],\n",
       "       [8.84772092e-02, 9.11522865e-01],\n",
       "       [6.15360022e-01, 3.84639978e-01],\n",
       "       [2.12975338e-01, 7.87024677e-01],\n",
       "       [6.70135766e-02, 9.32986438e-01],\n",
       "       [6.90656081e-02, 9.30934429e-01],\n",
       "       [1.00000000e+00, 1.28162881e-21],\n",
       "       [9.98307347e-01, 1.69258902e-03],\n",
       "       [9.99575555e-01, 4.24432190e-04],\n",
       "       [9.93508101e-01, 6.49192184e-03],\n",
       "       [6.09851740e-02, 9.39014792e-01],\n",
       "       [7.57180378e-02, 9.24281895e-01],\n",
       "       [9.98349905e-01, 1.65011908e-03],\n",
       "       [9.99995112e-01, 4.91927130e-06],\n",
       "       [3.25314142e-02, 9.67468619e-01],\n",
       "       [9.96984392e-02, 9.00301516e-01],\n",
       "       [9.99870420e-01, 1.29586217e-04],\n",
       "       [9.48962197e-02, 9.05103803e-01],\n",
       "       [5.47031723e-02, 9.45296764e-01],\n",
       "       [3.50078583e-01, 6.49921358e-01],\n",
       "       [3.75457704e-02, 9.62454259e-01],\n",
       "       [5.32546975e-02, 9.46745276e-01],\n",
       "       [9.99998212e-01, 1.75517664e-06],\n",
       "       [8.70219469e-02, 9.12978113e-01],\n",
       "       [1.00000000e+00, 1.96221901e-08],\n",
       "       [2.04587243e-02, 9.79541242e-01],\n",
       "       [1.00000000e+00, 3.01242338e-08],\n",
       "       [1.00000000e+00, 1.06669857e-21],\n",
       "       [7.83051476e-02, 9.21694815e-01],\n",
       "       [9.99999523e-01, 4.17282934e-07],\n",
       "       [1.00000000e+00, 7.90004780e-13],\n",
       "       [9.99938369e-01, 6.16655452e-05],\n",
       "       [8.08506608e-02, 9.19149339e-01],\n",
       "       [9.73362684e-01, 2.66372804e-02],\n",
       "       [4.08239886e-02, 9.59176004e-01],\n",
       "       [9.97165978e-01, 2.83397269e-03],\n",
       "       [9.99840260e-01, 1.59765783e-04],\n",
       "       [9.29289535e-02, 9.07070994e-01],\n",
       "       [3.23152505e-02, 9.67684805e-01],\n",
       "       [9.97939885e-01, 2.06011347e-03],\n",
       "       [8.36356655e-02, 9.16364312e-01],\n",
       "       [9.90966439e-01, 9.03353654e-03],\n",
       "       [1.36776313e-01, 8.63223732e-01],\n",
       "       [9.99999404e-01, 6.01863576e-07],\n",
       "       [9.99938965e-01, 6.10870411e-05],\n",
       "       [9.95211527e-02, 9.00478840e-01],\n",
       "       [1.00000000e+00, 1.24065940e-11],\n",
       "       [4.66125831e-02, 9.53387439e-01],\n",
       "       [9.99946475e-01, 5.35034160e-05],\n",
       "       [9.99817789e-01, 1.82261108e-04],\n",
       "       [9.98949826e-01, 1.05019065e-03],\n",
       "       [9.49071765e-01, 5.09282090e-02],\n",
       "       [9.99440253e-01, 5.59722830e-04],\n",
       "       [6.57761842e-02, 9.34223831e-01],\n",
       "       [6.56272098e-02, 9.34372783e-01],\n",
       "       [9.99767482e-01, 2.32511185e-04],\n",
       "       [2.57219046e-01, 7.42780983e-01],\n",
       "       [1.00000000e+00, 4.60141331e-15],\n",
       "       [9.99999404e-01, 5.39822906e-07],\n",
       "       [9.99855518e-01, 1.44484933e-04],\n",
       "       [9.99999523e-01, 4.97833128e-07],\n",
       "       [9.94444191e-01, 5.55584999e-03],\n",
       "       [9.99999881e-01, 8.84443452e-08],\n",
       "       [1.03092439e-01, 8.96907568e-01],\n",
       "       [8.88178527e-01, 1.11821465e-01],\n",
       "       [9.99999881e-01, 1.39699040e-07],\n",
       "       [1.00000000e+00, 4.04204420e-17],\n",
       "       [9.66521800e-01, 3.34781595e-02],\n",
       "       [6.38567582e-02, 9.36143219e-01],\n",
       "       [2.43074238e-01, 7.56925762e-01],\n",
       "       [8.28762501e-02, 9.17123735e-01],\n",
       "       [9.37207937e-02, 9.06279206e-01],\n",
       "       [9.99843597e-01, 1.56356575e-04],\n",
       "       [9.98311281e-01, 1.68872299e-03],\n",
       "       [9.98156488e-01, 1.84353057e-03],\n",
       "       [2.33844697e-01, 7.66155243e-01],\n",
       "       [1.79134160e-01, 8.20865870e-01],\n",
       "       [1.06803678e-01, 8.93196344e-01],\n",
       "       [4.61961143e-02, 9.53803897e-01],\n",
       "       [2.03918919e-01, 7.96081066e-01],\n",
       "       [1.63583100e-01, 8.36416900e-01],\n",
       "       [3.48731309e-01, 6.51268721e-01],\n",
       "       [9.99975562e-01, 2.44565617e-05],\n",
       "       [5.50064556e-02, 9.44993615e-01],\n",
       "       [9.99220610e-01, 7.79416237e-04],\n",
       "       [1.95719361e-01, 8.04280698e-01]], dtype=float32)"
      ]
     },
     "execution_count": 101,
     "metadata": {},
     "output_type": "execute_result"
    }
   ],
   "source": [
    "# Display the predictions made by the model on the test set\n",
    "# - 'y_pred' contains the probability distribution for each class for every image\n",
    "# - Each row corresponds to an image, and each column corresponds to a class\n",
    "# - You can use np.argmax(y_pred, axis=1) to convert these probabilities into the predicted class labels\n",
    "y_pred\n"
   ]
  },
  {
   "cell_type": "code",
   "execution_count": 35,
   "id": "b829e50c-c757-4f3f-899d-ae4e2694afc0",
   "metadata": {},
   "outputs": [],
   "source": [
    "# Convert predicted probabilities into class labels\n",
    "# - np.argmax(y_pred, axis=1) returns the index of the highest probability for each image\n",
    "# - This index corresponds to the predicted class label\n",
    "# - After this step, 'y_pred' will contain integer labels representing the predicted class for each test image\n",
    "import numpy as np\n",
    "y_pred = np.argmax(y_pred, axis=1)\n"
   ]
  },
  {
   "cell_type": "code",
   "execution_count": 89,
   "id": "44c6b035-71fb-47a0-a8cd-4eacf8950840",
   "metadata": {},
   "outputs": [
    {
     "data": {
      "text/plain": [
       "array([0, 0, 0, 0, 1, 0, 0, 1, 0, 0, 0, 1, 0, 1, 1, 1, 1, 0, 0, 0, 0, 0,\n",
       "       1, 1, 0, 1, 0, 0, 0, 0, 0, 1, 0, 1, 0, 0, 1, 1, 0, 0, 0, 0, 1, 0,\n",
       "       1, 0, 1, 1, 1, 1, 0, 0, 0, 1, 0, 0, 1, 0, 1, 1, 0, 0, 0, 1, 0, 0,\n",
       "       0, 1, 0, 0, 0, 1, 0, 0, 1, 0, 0, 1, 0, 1, 0, 0, 1, 1, 1, 1, 1, 0,\n",
       "       0, 1, 0, 0, 0, 0, 1, 1, 1, 1, 0, 1, 0, 0, 0, 1, 0, 1, 0, 0, 0, 1,\n",
       "       0, 1, 0, 0, 1, 0, 0, 1, 0, 0, 1, 1, 1, 1, 1, 0, 1, 0, 0, 1, 1, 1,\n",
       "       1, 1])"
      ]
     },
     "execution_count": 89,
     "metadata": {},
     "output_type": "execute_result"
    }
   ],
   "source": [
    "# Display the predicted class labels for the test dataset\n",
    "# - 'y_pred' now contains integer values representing the predicted class for each image\n",
    "# - These integers correspond to the index of each class folder used during training\n",
    "# - You can compare these predictions with the true labels to evaluate model performance\n",
    "y_pred\n"
   ]
  },
  {
   "cell_type": "code",
   "execution_count": 91,
   "id": "e1f56cf0-8964-45e3-bf2e-000219bb87cc",
   "metadata": {},
   "outputs": [],
   "source": [
    "# Import load_model to load a previously saved Keras model\n",
    "# This allows you to use the trained model for predictions without retraining\n",
    "from tensorflow.keras.models import load_model\n",
    "\n",
    "# Import image module from Keras for loading and preprocessing single images\n",
    "# Useful when you want to make predictions on new, individual images\n",
    "from tensorflow.keras.preprocessing import image\n"
   ]
  },
  {
   "cell_type": "code",
   "execution_count": 92,
   "id": "0948513f-0dbb-4750-b77e-3f61aca2e884",
   "metadata": {},
   "outputs": [
    {
     "name": "stderr",
     "output_type": "stream",
     "text": [
      "WARNING:absl:Compiled the loaded model, but the compiled metrics have yet to be built. `model.compile_metrics` will be empty until you train or evaluate the model.\n"
     ]
    }
   ],
   "source": [
    "# Load the previously saved VGG19-based model from the H5 file\n",
    "# - 'model_vgg19.h5' contains the full model architecture, trained weights, and optimizer state\n",
    "# - After loading, the model can be used for making predictions on new images without retraining\n",
    "model = load_model('model_vgg19.h5')\n"
   ]
  },
  {
   "cell_type": "code",
   "execution_count": 81,
   "id": "727c9512-2f4c-40cb-99c6-dbb920fec2d1",
   "metadata": {},
   "outputs": [],
   "source": [
    "# Load a single image from the test dataset for prediction\n",
    "# - 'Dataset/Test/Uninfected/2.png' is the path to the image file\n",
    "# - target_size=(224,224) resizes the image to match the input size expected by the model\n",
    "# - image.load_img() loads the image as a PIL object\n",
    "img = image.load_img('Dataset/Test/Uninfected/2.png', target_size=(224,224))\n"
   ]
  },
  {
   "cell_type": "code",
   "execution_count": 82,
   "id": "723a132d-645c-4e26-9539-c832bd8405db",
   "metadata": {},
   "outputs": [
    {
     "data": {
      "text/plain": [
       "array([[[0., 0., 0.],\n",
       "        [0., 0., 0.],\n",
       "        [0., 0., 0.],\n",
       "        ...,\n",
       "        [0., 0., 0.],\n",
       "        [0., 0., 0.],\n",
       "        [0., 0., 0.]],\n",
       "\n",
       "       [[0., 0., 0.],\n",
       "        [0., 0., 0.],\n",
       "        [0., 0., 0.],\n",
       "        ...,\n",
       "        [0., 0., 0.],\n",
       "        [0., 0., 0.],\n",
       "        [0., 0., 0.]],\n",
       "\n",
       "       [[0., 0., 0.],\n",
       "        [0., 0., 0.],\n",
       "        [0., 0., 0.],\n",
       "        ...,\n",
       "        [0., 0., 0.],\n",
       "        [0., 0., 0.],\n",
       "        [0., 0., 0.]],\n",
       "\n",
       "       ...,\n",
       "\n",
       "       [[0., 0., 0.],\n",
       "        [0., 0., 0.],\n",
       "        [0., 0., 0.],\n",
       "        ...,\n",
       "        [0., 0., 0.],\n",
       "        [0., 0., 0.],\n",
       "        [0., 0., 0.]],\n",
       "\n",
       "       [[0., 0., 0.],\n",
       "        [0., 0., 0.],\n",
       "        [0., 0., 0.],\n",
       "        ...,\n",
       "        [0., 0., 0.],\n",
       "        [0., 0., 0.],\n",
       "        [0., 0., 0.]],\n",
       "\n",
       "       [[0., 0., 0.],\n",
       "        [0., 0., 0.],\n",
       "        [0., 0., 0.],\n",
       "        ...,\n",
       "        [0., 0., 0.],\n",
       "        [0., 0., 0.],\n",
       "        [0., 0., 0.]]], shape=(224, 224, 3), dtype=float32)"
      ]
     },
     "execution_count": 82,
     "metadata": {},
     "output_type": "execute_result"
    }
   ],
   "source": [
    "# Convert the loaded PIL image to a NumPy array\n",
    "# - image.img_to_array() converts the image into a 3D array (height, width, channels)\n",
    "# - This is required because the model expects numerical input rather than a PIL image\n",
    "# - The resulting array can now be preprocessed and fed into the model for prediction\n",
    "x = image.img_to_array(img)\n",
    "\n",
    "# Display the image array to verify its shape and pixel values\n",
    "x\n"
   ]
  },
  {
   "cell_type": "code",
   "execution_count": 83,
   "id": "5b8fb14d-5c6b-4a0c-a682-805799ff66d0",
   "metadata": {},
   "outputs": [
    {
     "data": {
      "text/plain": [
       "(224, 224, 3)"
      ]
     },
     "execution_count": 83,
     "metadata": {},
     "output_type": "execute_result"
    }
   ],
   "source": [
    "# Check the shape of the image array\n",
    "# - x.shape will return a tuple representing (height, width, channels)\n",
    "# - For this image, it should be (224, 224, 3), matching the input size expected by the model\n",
    "x.shape\n"
   ]
  },
  {
   "cell_type": "code",
   "execution_count": 84,
   "id": "6507693c-a1b1-4afb-a75f-99f1dd4dcdf0",
   "metadata": {},
   "outputs": [],
   "source": [
    "x=x/255"
   ]
  },
  {
   "cell_type": "code",
   "execution_count": 85,
   "id": "9526db7c-f08d-4e16-bd58-5a9018c3ed89",
   "metadata": {},
   "outputs": [
    {
     "data": {
      "text/plain": [
       "(1, 224, 224, 3)"
      ]
     },
     "execution_count": 85,
     "metadata": {},
     "output_type": "execute_result"
    }
   ],
   "source": [
    "# Add an extra dimension to the image array to match the model's expected input shape\n",
    "# - np.expand_dims(x, axis=0) converts the shape from (224,224,3) to (1,224,224,3)\n",
    "# - The first dimension represents the batch size, which is required even for a single image\n",
    "x = np.expand_dims(x, axis=0)\n",
    "\n",
    "# Preprocess the image using the preprocessing function compatible with the pre-trained model\n",
    "# - preprocess_input scales pixel values and performs any normalization required by VGG19/ResNet50\n",
    "# - This ensures the input image has the same format as the images used during model training\n",
    "img_data = preprocess_input(x)\n",
    "\n",
    "# Display the shape of the preprocessed image data\n",
    "# - The expected shape is (1, 224, 224, 3)\n",
    "img_data.shape\n"
   ]
  },
  {
   "cell_type": "code",
   "execution_count": 86,
   "id": "cb185c19-fe18-4c9f-b45e-0d3ff5c1aef4",
   "metadata": {},
   "outputs": [
    {
     "name": "stdout",
     "output_type": "stream",
     "text": [
      "\u001b[1m1/1\u001b[0m \u001b[32m━━━━━━━━━━━━━━━━━━━━\u001b[0m\u001b[37m\u001b[0m \u001b[1m0s\u001b[0m 44ms/step\n"
     ]
    },
    {
     "data": {
      "text/plain": [
       "array([[1., 0.]], dtype=float32)"
      ]
     },
     "execution_count": 86,
     "metadata": {},
     "output_type": "execute_result"
    }
   ],
   "source": [
    "# Use the trained model to predict the class of the single preprocessed image\n",
    "# - img_data is a 4D array with shape (1, 224, 224, 3), matching the model's input requirements\n",
    "# - model.predict() returns the probability for each class\n",
    "# - The output will be a NumPy array where each element corresponds to the predicted probability for each class\n",
    "model.predict(img_data)\n"
   ]
  },
  {
   "cell_type": "code",
   "execution_count": 87,
   "id": "78000f5c-5902-408b-9c70-a6ecf51178d2",
   "metadata": {},
   "outputs": [
    {
     "name": "stdout",
     "output_type": "stream",
     "text": [
      "\u001b[1m1/1\u001b[0m \u001b[32m━━━━━━━━━━━━━━━━━━━━\u001b[0m\u001b[37m\u001b[0m \u001b[1m0s\u001b[0m 52ms/step\n"
     ]
    }
   ],
   "source": [
    "# Convert the predicted probabilities into a class label\n",
    "# - np.argmax() returns the index of the highest probability in the output array\n",
    "# - axis=1 ensures we get the predicted class for each image in the batch (even though there's only one image)\n",
    "# - The result 'a' will be an integer representing the predicted class index\n",
    "a = np.argmax(model.predict(img_data), axis=1)\n"
   ]
  },
  {
   "cell_type": "code",
   "execution_count": 77,
   "id": "9a08aade-3244-4988-b3de-22659a1eaf20",
   "metadata": {},
   "outputs": [
    {
     "data": {
      "text/plain": [
       "array([0])"
      ]
     },
     "execution_count": 77,
     "metadata": {},
     "output_type": "execute_result"
    }
   ],
   "source": [
    "a"
   ]
  },
  {
   "cell_type": "code",
   "execution_count": 88,
   "id": "2f7245ca-3a92-45a3-9eb5-09e0148fb391",
   "metadata": {},
   "outputs": [
    {
     "name": "stdout",
     "output_type": "stream",
     "text": [
      "Infected\n"
     ]
    }
   ],
   "source": [
    "# Map the predicted class index to the actual class label and display the result\n",
    "# - If the predicted index 'a' is 1, the model predicts \"Uninfected\"\n",
    "# - Otherwise, the model predicts \"Infected\"\n",
    "# - This provides a human-readable interpretation of the model's prediction\n",
    "if(a == 1):\n",
    "    print(\"Uninfected\")\n",
    "else:\n",
    "    print(\"Infected\")\n"
   ]
  },
  {
   "cell_type": "code",
   "execution_count": null,
   "id": "fc2a479a-20b0-4059-bbb6-0b543629a53e",
   "metadata": {},
   "outputs": [],
   "source": []
  }
 ],
 "metadata": {
  "kernelspec": {
   "display_name": "Python 3 (ipykernel)",
   "language": "python",
   "name": "python3"
  },
  "language_info": {
   "codemirror_mode": {
    "name": "ipython",
    "version": 3
   },
   "file_extension": ".py",
   "mimetype": "text/x-python",
   "name": "python",
   "nbconvert_exporter": "python",
   "pygments_lexer": "ipython3",
   "version": "3.13.2"
  }
 },
 "nbformat": 4,
 "nbformat_minor": 5
}
